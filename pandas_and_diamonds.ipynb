{
 "cells": [
  {
   "cell_type": "markdown",
   "metadata": {},
   "source": [
    "# Exploring the diamonds data set.\n",
    "\n",
    "This IPython notebook takes a look at the diamonds data set. We first do some exploratory data analysis followed by some visualization and modeling.\n",
    "\n",
    "* **Contents**\n",
    "   - [Modules Used](#Modules-Used)\n",
    "   - [Exploratory Data Analysis](#Exploratory-Data-Analysis)\n",
    "      * [Data Attributes](#Data-Attributes)\n",
    "      * [Basic Data Stats](#Basic-Data-Stats)\n",
    "         * [Mean Prices by Cut](#Mean-Prices-by-Cut)\n",
    "         * [Mean Prices by Cut and Color](#Mean-Prices-by-Cut-and-Color)\n",
    "         * [What about clarity?](#What-about-clarity?)\n",
    "         * [Where's the missing data?](#Where's-the-missing-data?)\n",
    "   - [Data Visualization](#Data-Visualization)\n",
    "      * [Histogram of Prices](#Histogram-of-Prices)\n",
    "      * [Skewness Test](#Skewness-Test)\n",
    "      * [Prices by cut](#Prices-by-cut)\n",
    "      * [Prices by carat](#Prices-by-carat)\n",
    "      * [Outliers by carat](#Outliers-by-carat)\n",
    "      * [Box Plots](#Box-Plots)\n",
    "         * [Zooming In](#Zooming-In)\n",
    "      * [Prrices by cut and clarity](#Prices-by-cut-and-clarity)\n",
    "      * [Are some diamonds rare?](#Are-some-diamonds-rare?)\n",
    "      * [Violin Plots](#Violin-Plots)\n",
    "      * [Flawless but cheap?](#Flawless-but-cheap?)\n",
    "   - Modeling\n",
    "      * [Linear regression](#Linear-regression-in-the-diamond-mines)\n",
    "        * [Train-Test-Split](#Data-Split)\n",
    "        * [Label Encoding](#Label-Encoding)\n",
    "        * [The Model](#The-Model)\n",
    "        * [Model Evaluation](#Model-Evaluation)\n",
    "          * [What's in the R<sup>2</sup>?!](#What's-in-the-R-squared?!)\n",
    "        * [Approaching Reality](#Towards-Reality)\n",
    "         * [Feature Selection](#Feature-Importance-and-Selection)\n",
    "         \n",
    "    - [Future Steps and Feedback](#Future-Steps)"
   ]
  },
  {
   "cell_type": "markdown",
   "metadata": {},
   "source": [
    "## Modules Used\n"
   ]
  },
  {
   "cell_type": "code",
   "execution_count": 3,
   "metadata": {},
   "outputs": [],
   "source": [
    "import pandas as pd\n",
    "import numpy as np\n",
    "import matplotlib.pyplot as plt\n",
    "import scipy\n",
    "from seaborn import load_dataset\n",
    "import seaborn as sns\n"
   ]
  },
  {
   "cell_type": "markdown",
   "metadata": {},
   "source": [
    "## Exploratory Data Analysis\n",
    "\n",
    "To begin our analysis, we need to first get a general idea of what our  dataset looks like. To do this, we shall first take a look at a few common procedures in exploratory data analysis.\n"
   ]
  },
  {
   "cell_type": "code",
   "execution_count": 4,
   "metadata": {},
   "outputs": [
    {
     "data": {
      "text/html": [
       "<div>\n",
       "<style scoped>\n",
       "    .dataframe tbody tr th:only-of-type {\n",
       "        vertical-align: middle;\n",
       "    }\n",
       "\n",
       "    .dataframe tbody tr th {\n",
       "        vertical-align: top;\n",
       "    }\n",
       "\n",
       "    .dataframe thead th {\n",
       "        text-align: right;\n",
       "    }\n",
       "</style>\n",
       "<table border=\"1\" class=\"dataframe\">\n",
       "  <thead>\n",
       "    <tr style=\"text-align: right;\">\n",
       "      <th></th>\n",
       "      <th>carat</th>\n",
       "      <th>cut</th>\n",
       "      <th>color</th>\n",
       "      <th>clarity</th>\n",
       "      <th>depth</th>\n",
       "      <th>table</th>\n",
       "      <th>price</th>\n",
       "      <th>x</th>\n",
       "      <th>y</th>\n",
       "      <th>z</th>\n",
       "    </tr>\n",
       "  </thead>\n",
       "  <tbody>\n",
       "    <tr>\n",
       "      <th>0</th>\n",
       "      <td>0.23</td>\n",
       "      <td>Ideal</td>\n",
       "      <td>E</td>\n",
       "      <td>SI2</td>\n",
       "      <td>61.5</td>\n",
       "      <td>55.0</td>\n",
       "      <td>326</td>\n",
       "      <td>3.95</td>\n",
       "      <td>3.98</td>\n",
       "      <td>2.43</td>\n",
       "    </tr>\n",
       "    <tr>\n",
       "      <th>1</th>\n",
       "      <td>0.21</td>\n",
       "      <td>Premium</td>\n",
       "      <td>E</td>\n",
       "      <td>SI1</td>\n",
       "      <td>59.8</td>\n",
       "      <td>61.0</td>\n",
       "      <td>326</td>\n",
       "      <td>3.89</td>\n",
       "      <td>3.84</td>\n",
       "      <td>2.31</td>\n",
       "    </tr>\n",
       "    <tr>\n",
       "      <th>2</th>\n",
       "      <td>0.23</td>\n",
       "      <td>Good</td>\n",
       "      <td>E</td>\n",
       "      <td>VS1</td>\n",
       "      <td>56.9</td>\n",
       "      <td>65.0</td>\n",
       "      <td>327</td>\n",
       "      <td>4.05</td>\n",
       "      <td>4.07</td>\n",
       "      <td>2.31</td>\n",
       "    </tr>\n",
       "    <tr>\n",
       "      <th>3</th>\n",
       "      <td>0.29</td>\n",
       "      <td>Premium</td>\n",
       "      <td>I</td>\n",
       "      <td>VS2</td>\n",
       "      <td>62.4</td>\n",
       "      <td>58.0</td>\n",
       "      <td>334</td>\n",
       "      <td>4.20</td>\n",
       "      <td>4.23</td>\n",
       "      <td>2.63</td>\n",
       "    </tr>\n",
       "    <tr>\n",
       "      <th>4</th>\n",
       "      <td>0.31</td>\n",
       "      <td>Good</td>\n",
       "      <td>J</td>\n",
       "      <td>SI2</td>\n",
       "      <td>63.3</td>\n",
       "      <td>58.0</td>\n",
       "      <td>335</td>\n",
       "      <td>4.34</td>\n",
       "      <td>4.35</td>\n",
       "      <td>2.75</td>\n",
       "    </tr>\n",
       "  </tbody>\n",
       "</table>\n",
       "</div>"
      ],
      "text/plain": [
       "   carat      cut color clarity  depth  table  price     x     y     z\n",
       "0   0.23    Ideal     E     SI2   61.5   55.0    326  3.95  3.98  2.43\n",
       "1   0.21  Premium     E     SI1   59.8   61.0    326  3.89  3.84  2.31\n",
       "2   0.23     Good     E     VS1   56.9   65.0    327  4.05  4.07  2.31\n",
       "3   0.29  Premium     I     VS2   62.4   58.0    334  4.20  4.23  2.63\n",
       "4   0.31     Good     J     SI2   63.3   58.0    335  4.34  4.35  2.75"
      ]
     },
     "execution_count": 4,
     "metadata": {},
     "output_type": "execute_result"
    }
   ],
   "source": [
    "# Loading the data set\n",
    "diamonds = load_dataset(\"diamonds\")\n",
    "diamonds.head()"
   ]
  },
  {
   "cell_type": "markdown",
   "metadata": {},
   "source": [
    "Having taken a peak at our data set, there are a few things that need to be done. \n",
    "First, we need to have a general understanding of what the columns stand for. For instance, it would be hard to understand what x, y and z stood for unless you had prior knowledge about the data set."
   ]
  },
  {
   "cell_type": "markdown",
   "metadata": {},
   "source": [
    "### Data Attributes\n",
    "\n",
    "There are a couple of ways to find out what the column mean: One could simply guess that x, y and z refer to the lengths, widths and heights of the diamonds. One could also do a simple web search. \n",
    "\n",
    "Preferably, one can take a look at the dataset's documentation as shown next. Regrettably, the data set is not well documented by the package authors."
   ]
  },
  {
   "cell_type": "code",
   "execution_count": 8,
   "metadata": {},
   "outputs": [],
   "source": [
    "#?diamonds"
   ]
  },
  {
   "cell_type": "markdown",
   "metadata": {},
   "source": [
    "However, a web [search](https://rstudio-pubs-static.s3.amazonaws.com/316651_5c92e58ef8a343e4b3f618a7b415e2ad.html) does identify what the columns mean and x, y, z are as guessed above.\n"
   ]
  },
  {
   "cell_type": "markdown",
   "metadata": {},
   "source": [
    "## Basic Data Stats\n",
    "\n",
    "Before, taking a look at the data's basic statistics, it might be useful to give the data more meanignful names. To do that, we shall use a data frame(`DataFrame`)'s `rename` method with a `dictionary` mapping.  Since the default is to set `inplace` to `False`, we can set that to `True`."
   ]
  },
  {
   "cell_type": "code",
   "execution_count": 5,
   "metadata": {},
   "outputs": [
    {
     "data": {
      "text/html": [
       "<div>\n",
       "<style scoped>\n",
       "    .dataframe tbody tr th:only-of-type {\n",
       "        vertical-align: middle;\n",
       "    }\n",
       "\n",
       "    .dataframe tbody tr th {\n",
       "        vertical-align: top;\n",
       "    }\n",
       "\n",
       "    .dataframe thead th {\n",
       "        text-align: right;\n",
       "    }\n",
       "</style>\n",
       "<table border=\"1\" class=\"dataframe\">\n",
       "  <thead>\n",
       "    <tr style=\"text-align: right;\">\n",
       "      <th></th>\n",
       "      <th>carat</th>\n",
       "      <th>cut</th>\n",
       "      <th>color</th>\n",
       "      <th>clarity</th>\n",
       "      <th>depth</th>\n",
       "      <th>table</th>\n",
       "      <th>price</th>\n",
       "      <th>length</th>\n",
       "      <th>width</th>\n",
       "      <th>height</th>\n",
       "    </tr>\n",
       "  </thead>\n",
       "  <tbody>\n",
       "    <tr>\n",
       "      <th>0</th>\n",
       "      <td>0.23</td>\n",
       "      <td>Ideal</td>\n",
       "      <td>E</td>\n",
       "      <td>SI2</td>\n",
       "      <td>61.5</td>\n",
       "      <td>55.0</td>\n",
       "      <td>326</td>\n",
       "      <td>3.95</td>\n",
       "      <td>3.98</td>\n",
       "      <td>2.43</td>\n",
       "    </tr>\n",
       "    <tr>\n",
       "      <th>1</th>\n",
       "      <td>0.21</td>\n",
       "      <td>Premium</td>\n",
       "      <td>E</td>\n",
       "      <td>SI1</td>\n",
       "      <td>59.8</td>\n",
       "      <td>61.0</td>\n",
       "      <td>326</td>\n",
       "      <td>3.89</td>\n",
       "      <td>3.84</td>\n",
       "      <td>2.31</td>\n",
       "    </tr>\n",
       "    <tr>\n",
       "      <th>2</th>\n",
       "      <td>0.23</td>\n",
       "      <td>Good</td>\n",
       "      <td>E</td>\n",
       "      <td>VS1</td>\n",
       "      <td>56.9</td>\n",
       "      <td>65.0</td>\n",
       "      <td>327</td>\n",
       "      <td>4.05</td>\n",
       "      <td>4.07</td>\n",
       "      <td>2.31</td>\n",
       "    </tr>\n",
       "    <tr>\n",
       "      <th>3</th>\n",
       "      <td>0.29</td>\n",
       "      <td>Premium</td>\n",
       "      <td>I</td>\n",
       "      <td>VS2</td>\n",
       "      <td>62.4</td>\n",
       "      <td>58.0</td>\n",
       "      <td>334</td>\n",
       "      <td>4.20</td>\n",
       "      <td>4.23</td>\n",
       "      <td>2.63</td>\n",
       "    </tr>\n",
       "    <tr>\n",
       "      <th>4</th>\n",
       "      <td>0.31</td>\n",
       "      <td>Good</td>\n",
       "      <td>J</td>\n",
       "      <td>SI2</td>\n",
       "      <td>63.3</td>\n",
       "      <td>58.0</td>\n",
       "      <td>335</td>\n",
       "      <td>4.34</td>\n",
       "      <td>4.35</td>\n",
       "      <td>2.75</td>\n",
       "    </tr>\n",
       "  </tbody>\n",
       "</table>\n",
       "</div>"
      ],
      "text/plain": [
       "   carat      cut color clarity  depth  table  price  length  width  height\n",
       "0   0.23    Ideal     E     SI2   61.5   55.0    326    3.95   3.98    2.43\n",
       "1   0.21  Premium     E     SI1   59.8   61.0    326    3.89   3.84    2.31\n",
       "2   0.23     Good     E     VS1   56.9   65.0    327    4.05   4.07    2.31\n",
       "3   0.29  Premium     I     VS2   62.4   58.0    334    4.20   4.23    2.63\n",
       "4   0.31     Good     J     SI2   63.3   58.0    335    4.34   4.35    2.75"
      ]
     },
     "execution_count": 5,
     "metadata": {},
     "output_type": "execute_result"
    }
   ],
   "source": [
    "diamonds.rename(columns = {'x': 'length', 'y': 'width', 'z': 'height'}, inplace = True)\n",
    "diamonds.head()\n"
   ]
  },
  {
   "cell_type": "markdown",
   "metadata": {},
   "source": [
    "Since we are now more comfortable with the dataset's column names since they are more informative, we can proceed to look at the basic stats."
   ]
  },
  {
   "cell_type": "code",
   "execution_count": 6,
   "metadata": {},
   "outputs": [
    {
     "data": {
      "text/html": [
       "<div>\n",
       "<style scoped>\n",
       "    .dataframe tbody tr th:only-of-type {\n",
       "        vertical-align: middle;\n",
       "    }\n",
       "\n",
       "    .dataframe tbody tr th {\n",
       "        vertical-align: top;\n",
       "    }\n",
       "\n",
       "    .dataframe thead th {\n",
       "        text-align: right;\n",
       "    }\n",
       "</style>\n",
       "<table border=\"1\" class=\"dataframe\">\n",
       "  <thead>\n",
       "    <tr style=\"text-align: right;\">\n",
       "      <th></th>\n",
       "      <th>carat</th>\n",
       "      <th>depth</th>\n",
       "      <th>table</th>\n",
       "      <th>price</th>\n",
       "      <th>length</th>\n",
       "      <th>width</th>\n",
       "      <th>height</th>\n",
       "    </tr>\n",
       "  </thead>\n",
       "  <tbody>\n",
       "    <tr>\n",
       "      <th>count</th>\n",
       "      <td>53940.000000</td>\n",
       "      <td>53940.000000</td>\n",
       "      <td>53940.000000</td>\n",
       "      <td>53940.000000</td>\n",
       "      <td>53940.000000</td>\n",
       "      <td>53940.000000</td>\n",
       "      <td>53940.000000</td>\n",
       "    </tr>\n",
       "    <tr>\n",
       "      <th>mean</th>\n",
       "      <td>0.797940</td>\n",
       "      <td>61.749405</td>\n",
       "      <td>57.457184</td>\n",
       "      <td>3932.799722</td>\n",
       "      <td>5.731157</td>\n",
       "      <td>5.734526</td>\n",
       "      <td>3.538734</td>\n",
       "    </tr>\n",
       "    <tr>\n",
       "      <th>std</th>\n",
       "      <td>0.474011</td>\n",
       "      <td>1.432621</td>\n",
       "      <td>2.234491</td>\n",
       "      <td>3989.439738</td>\n",
       "      <td>1.121761</td>\n",
       "      <td>1.142135</td>\n",
       "      <td>0.705699</td>\n",
       "    </tr>\n",
       "    <tr>\n",
       "      <th>min</th>\n",
       "      <td>0.200000</td>\n",
       "      <td>43.000000</td>\n",
       "      <td>43.000000</td>\n",
       "      <td>326.000000</td>\n",
       "      <td>0.000000</td>\n",
       "      <td>0.000000</td>\n",
       "      <td>0.000000</td>\n",
       "    </tr>\n",
       "    <tr>\n",
       "      <th>25%</th>\n",
       "      <td>0.400000</td>\n",
       "      <td>61.000000</td>\n",
       "      <td>56.000000</td>\n",
       "      <td>950.000000</td>\n",
       "      <td>4.710000</td>\n",
       "      <td>4.720000</td>\n",
       "      <td>2.910000</td>\n",
       "    </tr>\n",
       "    <tr>\n",
       "      <th>50%</th>\n",
       "      <td>0.700000</td>\n",
       "      <td>61.800000</td>\n",
       "      <td>57.000000</td>\n",
       "      <td>2401.000000</td>\n",
       "      <td>5.700000</td>\n",
       "      <td>5.710000</td>\n",
       "      <td>3.530000</td>\n",
       "    </tr>\n",
       "    <tr>\n",
       "      <th>75%</th>\n",
       "      <td>1.040000</td>\n",
       "      <td>62.500000</td>\n",
       "      <td>59.000000</td>\n",
       "      <td>5324.250000</td>\n",
       "      <td>6.540000</td>\n",
       "      <td>6.540000</td>\n",
       "      <td>4.040000</td>\n",
       "    </tr>\n",
       "    <tr>\n",
       "      <th>max</th>\n",
       "      <td>5.010000</td>\n",
       "      <td>79.000000</td>\n",
       "      <td>95.000000</td>\n",
       "      <td>18823.000000</td>\n",
       "      <td>10.740000</td>\n",
       "      <td>58.900000</td>\n",
       "      <td>31.800000</td>\n",
       "    </tr>\n",
       "  </tbody>\n",
       "</table>\n",
       "</div>"
      ],
      "text/plain": [
       "              carat         depth         table         price        length  \\\n",
       "count  53940.000000  53940.000000  53940.000000  53940.000000  53940.000000   \n",
       "mean       0.797940     61.749405     57.457184   3932.799722      5.731157   \n",
       "std        0.474011      1.432621      2.234491   3989.439738      1.121761   \n",
       "min        0.200000     43.000000     43.000000    326.000000      0.000000   \n",
       "25%        0.400000     61.000000     56.000000    950.000000      4.710000   \n",
       "50%        0.700000     61.800000     57.000000   2401.000000      5.700000   \n",
       "75%        1.040000     62.500000     59.000000   5324.250000      6.540000   \n",
       "max        5.010000     79.000000     95.000000  18823.000000     10.740000   \n",
       "\n",
       "              width        height  \n",
       "count  53940.000000  53940.000000  \n",
       "mean       5.734526      3.538734  \n",
       "std        1.142135      0.705699  \n",
       "min        0.000000      0.000000  \n",
       "25%        4.720000      2.910000  \n",
       "50%        5.710000      3.530000  \n",
       "75%        6.540000      4.040000  \n",
       "max       58.900000     31.800000  "
      ]
     },
     "execution_count": 6,
     "metadata": {},
     "output_type": "execute_result"
    }
   ],
   "source": [
    "diamonds.describe()"
   ]
  },
  {
   "cell_type": "markdown",
   "metadata": {},
   "source": [
    "From the above, we can see that the mean price was high. However, looking at these statistics is less informative since these may vary by cut, color, clarity or depth. Therefore looking at these statistics by group could be more informative.\n",
    "\n",
    "## Mean Prices by Cut"
   ]
  },
  {
   "cell_type": "code",
   "execution_count": 7,
   "metadata": {},
   "outputs": [
    {
     "data": {
      "text/html": [
       "<div>\n",
       "<style scoped>\n",
       "    .dataframe tbody tr th:only-of-type {\n",
       "        vertical-align: middle;\n",
       "    }\n",
       "\n",
       "    .dataframe tbody tr th {\n",
       "        vertical-align: top;\n",
       "    }\n",
       "\n",
       "    .dataframe thead th {\n",
       "        text-align: right;\n",
       "    }\n",
       "</style>\n",
       "<table border=\"1\" class=\"dataframe\">\n",
       "  <thead>\n",
       "    <tr style=\"text-align: right;\">\n",
       "      <th></th>\n",
       "      <th>carat</th>\n",
       "      <th>depth</th>\n",
       "      <th>table</th>\n",
       "      <th>price</th>\n",
       "      <th>length</th>\n",
       "      <th>width</th>\n",
       "      <th>height</th>\n",
       "    </tr>\n",
       "    <tr>\n",
       "      <th>cut</th>\n",
       "      <th></th>\n",
       "      <th></th>\n",
       "      <th></th>\n",
       "      <th></th>\n",
       "      <th></th>\n",
       "      <th></th>\n",
       "      <th></th>\n",
       "    </tr>\n",
       "  </thead>\n",
       "  <tbody>\n",
       "    <tr>\n",
       "      <th>Fair</th>\n",
       "      <td>1.046137</td>\n",
       "      <td>64.041677</td>\n",
       "      <td>59.053789</td>\n",
       "      <td>4358.757764</td>\n",
       "      <td>6.246894</td>\n",
       "      <td>6.182652</td>\n",
       "      <td>3.982770</td>\n",
       "    </tr>\n",
       "    <tr>\n",
       "      <th>Good</th>\n",
       "      <td>0.849185</td>\n",
       "      <td>62.365879</td>\n",
       "      <td>58.694639</td>\n",
       "      <td>3928.864452</td>\n",
       "      <td>5.838785</td>\n",
       "      <td>5.850744</td>\n",
       "      <td>3.639507</td>\n",
       "    </tr>\n",
       "    <tr>\n",
       "      <th>Ideal</th>\n",
       "      <td>0.702837</td>\n",
       "      <td>61.709401</td>\n",
       "      <td>55.951668</td>\n",
       "      <td>3457.541970</td>\n",
       "      <td>5.507451</td>\n",
       "      <td>5.520080</td>\n",
       "      <td>3.401448</td>\n",
       "    </tr>\n",
       "    <tr>\n",
       "      <th>Premium</th>\n",
       "      <td>0.891955</td>\n",
       "      <td>61.264673</td>\n",
       "      <td>58.746095</td>\n",
       "      <td>4584.257704</td>\n",
       "      <td>5.973887</td>\n",
       "      <td>5.944879</td>\n",
       "      <td>3.647124</td>\n",
       "    </tr>\n",
       "    <tr>\n",
       "      <th>Very Good</th>\n",
       "      <td>0.806381</td>\n",
       "      <td>61.818275</td>\n",
       "      <td>57.956150</td>\n",
       "      <td>3981.759891</td>\n",
       "      <td>5.740696</td>\n",
       "      <td>5.770026</td>\n",
       "      <td>3.559801</td>\n",
       "    </tr>\n",
       "  </tbody>\n",
       "</table>\n",
       "</div>"
      ],
      "text/plain": [
       "              carat      depth      table        price    length     width  \\\n",
       "cut                                                                          \n",
       "Fair       1.046137  64.041677  59.053789  4358.757764  6.246894  6.182652   \n",
       "Good       0.849185  62.365879  58.694639  3928.864452  5.838785  5.850744   \n",
       "Ideal      0.702837  61.709401  55.951668  3457.541970  5.507451  5.520080   \n",
       "Premium    0.891955  61.264673  58.746095  4584.257704  5.973887  5.944879   \n",
       "Very Good  0.806381  61.818275  57.956150  3981.759891  5.740696  5.770026   \n",
       "\n",
       "             height  \n",
       "cut                  \n",
       "Fair       3.982770  \n",
       "Good       3.639507  \n",
       "Ideal      3.401448  \n",
       "Premium    3.647124  \n",
       "Very Good  3.559801  "
      ]
     },
     "execution_count": 7,
     "metadata": {},
     "output_type": "execute_result"
    }
   ],
   "source": [
    "diamonds.groupby(\"cut\").mean()"
   ]
  },
  {
   "cell_type": "markdown",
   "metadata": {},
   "source": [
    "From the above, it is clearer that the mean prices for instance as one might have expected vary by cut. There is an almost linear relationship between cut and price. It is also interesting to note that the mean depth does not vary that much across the different cut(s).\n",
    "\n",
    "We can take the above a step further by looking at how prices for instance vary when the data is grouped by both cut and color.\n",
    "\n",
    "## Mean Prices by Cut and Color"
   ]
  },
  {
   "cell_type": "code",
   "execution_count": 8,
   "metadata": {},
   "outputs": [
    {
     "data": {
      "text/html": [
       "<div>\n",
       "<style scoped>\n",
       "    .dataframe tbody tr th:only-of-type {\n",
       "        vertical-align: middle;\n",
       "    }\n",
       "\n",
       "    .dataframe tbody tr th {\n",
       "        vertical-align: top;\n",
       "    }\n",
       "\n",
       "    .dataframe thead th {\n",
       "        text-align: right;\n",
       "    }\n",
       "</style>\n",
       "<table border=\"1\" class=\"dataframe\">\n",
       "  <thead>\n",
       "    <tr style=\"text-align: right;\">\n",
       "      <th></th>\n",
       "      <th></th>\n",
       "      <th>carat</th>\n",
       "      <th>depth</th>\n",
       "      <th>table</th>\n",
       "      <th>price</th>\n",
       "      <th>length</th>\n",
       "      <th>width</th>\n",
       "      <th>height</th>\n",
       "    </tr>\n",
       "    <tr>\n",
       "      <th>cut</th>\n",
       "      <th>color</th>\n",
       "      <th></th>\n",
       "      <th></th>\n",
       "      <th></th>\n",
       "      <th></th>\n",
       "      <th></th>\n",
       "      <th></th>\n",
       "      <th></th>\n",
       "    </tr>\n",
       "  </thead>\n",
       "  <tbody>\n",
       "    <tr>\n",
       "      <th rowspan=\"7\" valign=\"top\">Fair</th>\n",
       "      <th>D</th>\n",
       "      <td>0.920123</td>\n",
       "      <td>64.048466</td>\n",
       "      <td>58.969325</td>\n",
       "      <td>4291.061350</td>\n",
       "      <td>6.018344</td>\n",
       "      <td>5.963190</td>\n",
       "      <td>3.839877</td>\n",
       "    </tr>\n",
       "    <tr>\n",
       "      <th>E</th>\n",
       "      <td>0.856607</td>\n",
       "      <td>63.319643</td>\n",
       "      <td>59.364732</td>\n",
       "      <td>3682.312500</td>\n",
       "      <td>5.909063</td>\n",
       "      <td>5.858214</td>\n",
       "      <td>3.722143</td>\n",
       "    </tr>\n",
       "    <tr>\n",
       "      <th>F</th>\n",
       "      <td>0.904712</td>\n",
       "      <td>63.508013</td>\n",
       "      <td>59.453205</td>\n",
       "      <td>3827.003205</td>\n",
       "      <td>5.990513</td>\n",
       "      <td>5.931122</td>\n",
       "      <td>3.787821</td>\n",
       "    </tr>\n",
       "    <tr>\n",
       "      <th>G</th>\n",
       "      <td>1.023822</td>\n",
       "      <td>64.339809</td>\n",
       "      <td>58.773248</td>\n",
       "      <td>4239.254777</td>\n",
       "      <td>6.173822</td>\n",
       "      <td>6.114076</td>\n",
       "      <td>3.963153</td>\n",
       "    </tr>\n",
       "    <tr>\n",
       "      <th>H</th>\n",
       "      <td>1.219175</td>\n",
       "      <td>64.585149</td>\n",
       "      <td>58.696370</td>\n",
       "      <td>5135.683168</td>\n",
       "      <td>6.579373</td>\n",
       "      <td>6.497393</td>\n",
       "      <td>4.219373</td>\n",
       "    </tr>\n",
       "    <tr>\n",
       "      <th>I</th>\n",
       "      <td>1.198057</td>\n",
       "      <td>64.220571</td>\n",
       "      <td>59.237143</td>\n",
       "      <td>4685.445714</td>\n",
       "      <td>6.564457</td>\n",
       "      <td>6.493486</td>\n",
       "      <td>4.193486</td>\n",
       "    </tr>\n",
       "    <tr>\n",
       "      <th>J</th>\n",
       "      <td>1.341176</td>\n",
       "      <td>64.357143</td>\n",
       "      <td>58.917647</td>\n",
       "      <td>4975.655462</td>\n",
       "      <td>6.747311</td>\n",
       "      <td>6.675882</td>\n",
       "      <td>4.319664</td>\n",
       "    </tr>\n",
       "    <tr>\n",
       "      <th rowspan=\"7\" valign=\"top\">Good</th>\n",
       "      <th>D</th>\n",
       "      <td>0.744517</td>\n",
       "      <td>62.365710</td>\n",
       "      <td>58.541541</td>\n",
       "      <td>3405.382175</td>\n",
       "      <td>5.620076</td>\n",
       "      <td>5.633897</td>\n",
       "      <td>3.504864</td>\n",
       "    </tr>\n",
       "    <tr>\n",
       "      <th>E</th>\n",
       "      <td>0.745134</td>\n",
       "      <td>62.203751</td>\n",
       "      <td>58.779957</td>\n",
       "      <td>3423.644159</td>\n",
       "      <td>5.617889</td>\n",
       "      <td>5.632454</td>\n",
       "      <td>3.496066</td>\n",
       "    </tr>\n",
       "    <tr>\n",
       "      <th>F</th>\n",
       "      <td>0.775930</td>\n",
       "      <td>62.202310</td>\n",
       "      <td>58.910891</td>\n",
       "      <td>3495.750275</td>\n",
       "      <td>5.693443</td>\n",
       "      <td>5.709659</td>\n",
       "      <td>3.544609</td>\n",
       "    </tr>\n",
       "    <tr>\n",
       "      <th>G</th>\n",
       "      <td>0.850896</td>\n",
       "      <td>62.526636</td>\n",
       "      <td>58.471986</td>\n",
       "      <td>4123.482204</td>\n",
       "      <td>5.850264</td>\n",
       "      <td>5.862824</td>\n",
       "      <td>3.647922</td>\n",
       "    </tr>\n",
       "    <tr>\n",
       "      <th>H</th>\n",
       "      <td>0.914729</td>\n",
       "      <td>62.499573</td>\n",
       "      <td>58.611111</td>\n",
       "      <td>4276.254986</td>\n",
       "      <td>5.968789</td>\n",
       "      <td>5.974245</td>\n",
       "      <td>3.726937</td>\n",
       "    </tr>\n",
       "    <tr>\n",
       "      <th>I</th>\n",
       "      <td>1.057222</td>\n",
       "      <td>62.475096</td>\n",
       "      <td>58.773946</td>\n",
       "      <td>5078.532567</td>\n",
       "      <td>6.253544</td>\n",
       "      <td>6.260536</td>\n",
       "      <td>3.901513</td>\n",
       "    </tr>\n",
       "    <tr>\n",
       "      <th>J</th>\n",
       "      <td>1.099544</td>\n",
       "      <td>62.395765</td>\n",
       "      <td>58.813029</td>\n",
       "      <td>4574.172638</td>\n",
       "      <td>6.377003</td>\n",
       "      <td>6.386026</td>\n",
       "      <td>3.977459</td>\n",
       "    </tr>\n",
       "    <tr>\n",
       "      <th rowspan=\"7\" valign=\"top\">Ideal</th>\n",
       "      <th>D</th>\n",
       "      <td>0.565766</td>\n",
       "      <td>61.678370</td>\n",
       "      <td>55.965632</td>\n",
       "      <td>2629.094566</td>\n",
       "      <td>5.186704</td>\n",
       "      <td>5.196224</td>\n",
       "      <td>3.201800</td>\n",
       "    </tr>\n",
       "    <tr>\n",
       "      <th>E</th>\n",
       "      <td>0.578401</td>\n",
       "      <td>61.686677</td>\n",
       "      <td>55.967461</td>\n",
       "      <td>2597.550090</td>\n",
       "      <td>5.215762</td>\n",
       "      <td>5.232214</td>\n",
       "      <td>3.220346</td>\n",
       "    </tr>\n",
       "    <tr>\n",
       "      <th>F</th>\n",
       "      <td>0.655829</td>\n",
       "      <td>61.675562</td>\n",
       "      <td>55.924203</td>\n",
       "      <td>3374.939362</td>\n",
       "      <td>5.408751</td>\n",
       "      <td>5.422250</td>\n",
       "      <td>3.338732</td>\n",
       "    </tr>\n",
       "    <tr>\n",
       "      <th>G</th>\n",
       "      <td>0.700715</td>\n",
       "      <td>61.700164</td>\n",
       "      <td>55.902375</td>\n",
       "      <td>3720.706388</td>\n",
       "      <td>5.511214</td>\n",
       "      <td>5.524007</td>\n",
       "      <td>3.403120</td>\n",
       "    </tr>\n",
       "    <tr>\n",
       "      <th>H</th>\n",
       "      <td>0.799525</td>\n",
       "      <td>61.733194</td>\n",
       "      <td>55.965843</td>\n",
       "      <td>3889.334831</td>\n",
       "      <td>5.731377</td>\n",
       "      <td>5.740446</td>\n",
       "      <td>3.539917</td>\n",
       "    </tr>\n",
       "    <tr>\n",
       "      <th>I</th>\n",
       "      <td>0.913029</td>\n",
       "      <td>61.793598</td>\n",
       "      <td>56.021357</td>\n",
       "      <td>4451.970377</td>\n",
       "      <td>5.976197</td>\n",
       "      <td>5.989479</td>\n",
       "      <td>3.695270</td>\n",
       "    </tr>\n",
       "    <tr>\n",
       "      <th>J</th>\n",
       "      <td>1.063594</td>\n",
       "      <td>61.821987</td>\n",
       "      <td>56.012612</td>\n",
       "      <td>4918.186384</td>\n",
       "      <td>6.320045</td>\n",
       "      <td>6.332098</td>\n",
       "      <td>3.912757</td>\n",
       "    </tr>\n",
       "    <tr>\n",
       "      <th rowspan=\"7\" valign=\"top\">Premium</th>\n",
       "      <th>D</th>\n",
       "      <td>0.721547</td>\n",
       "      <td>61.169245</td>\n",
       "      <td>58.718964</td>\n",
       "      <td>3631.292576</td>\n",
       "      <td>5.599869</td>\n",
       "      <td>5.571472</td>\n",
       "      <td>3.415926</td>\n",
       "    </tr>\n",
       "    <tr>\n",
       "      <th>E</th>\n",
       "      <td>0.717745</td>\n",
       "      <td>61.175909</td>\n",
       "      <td>58.779461</td>\n",
       "      <td>3538.914420</td>\n",
       "      <td>5.587116</td>\n",
       "      <td>5.558353</td>\n",
       "      <td>3.408875</td>\n",
       "    </tr>\n",
       "    <tr>\n",
       "      <th>F</th>\n",
       "      <td>0.827036</td>\n",
       "      <td>61.259974</td>\n",
       "      <td>58.679279</td>\n",
       "      <td>4324.890176</td>\n",
       "      <td>5.876692</td>\n",
       "      <td>5.844655</td>\n",
       "      <td>3.588391</td>\n",
       "    </tr>\n",
       "    <tr>\n",
       "      <th>G</th>\n",
       "      <td>0.841488</td>\n",
       "      <td>61.279480</td>\n",
       "      <td>58.702360</td>\n",
       "      <td>4500.742134</td>\n",
       "      <td>5.864254</td>\n",
       "      <td>5.833345</td>\n",
       "      <td>3.579641</td>\n",
       "    </tr>\n",
       "    <tr>\n",
       "      <th>H</th>\n",
       "      <td>1.016449</td>\n",
       "      <td>61.322034</td>\n",
       "      <td>58.792034</td>\n",
       "      <td>5216.706780</td>\n",
       "      <td>6.244508</td>\n",
       "      <td>6.228110</td>\n",
       "      <td>3.811699</td>\n",
       "    </tr>\n",
       "    <tr>\n",
       "      <th>I</th>\n",
       "      <td>1.144937</td>\n",
       "      <td>61.328641</td>\n",
       "      <td>58.771849</td>\n",
       "      <td>5946.180672</td>\n",
       "      <td>6.489531</td>\n",
       "      <td>6.453270</td>\n",
       "      <td>3.963894</td>\n",
       "    </tr>\n",
       "    <tr>\n",
       "      <th>J</th>\n",
       "      <td>1.293094</td>\n",
       "      <td>61.390099</td>\n",
       "      <td>58.874752</td>\n",
       "      <td>6294.591584</td>\n",
       "      <td>6.809975</td>\n",
       "      <td>6.770644</td>\n",
       "      <td>4.168020</td>\n",
       "    </tr>\n",
       "    <tr>\n",
       "      <th rowspan=\"7\" valign=\"top\">Very Good</th>\n",
       "      <th>D</th>\n",
       "      <td>0.696424</td>\n",
       "      <td>61.750165</td>\n",
       "      <td>58.041309</td>\n",
       "      <td>3470.467284</td>\n",
       "      <td>5.501210</td>\n",
       "      <td>5.531613</td>\n",
       "      <td>3.405089</td>\n",
       "    </tr>\n",
       "    <tr>\n",
       "      <th>E</th>\n",
       "      <td>0.676317</td>\n",
       "      <td>61.730250</td>\n",
       "      <td>58.038875</td>\n",
       "      <td>3214.652083</td>\n",
       "      <td>5.432467</td>\n",
       "      <td>5.463213</td>\n",
       "      <td>3.373996</td>\n",
       "    </tr>\n",
       "    <tr>\n",
       "      <th>F</th>\n",
       "      <td>0.740961</td>\n",
       "      <td>61.721627</td>\n",
       "      <td>57.848429</td>\n",
       "      <td>3778.820240</td>\n",
       "      <td>5.610504</td>\n",
       "      <td>5.642717</td>\n",
       "      <td>3.472902</td>\n",
       "    </tr>\n",
       "    <tr>\n",
       "      <th>G</th>\n",
       "      <td>0.766799</td>\n",
       "      <td>61.841279</td>\n",
       "      <td>57.784428</td>\n",
       "      <td>3872.753806</td>\n",
       "      <td>5.660204</td>\n",
       "      <td>5.688752</td>\n",
       "      <td>3.509883</td>\n",
       "    </tr>\n",
       "    <tr>\n",
       "      <th>H</th>\n",
       "      <td>0.915948</td>\n",
       "      <td>61.968366</td>\n",
       "      <td>57.903015</td>\n",
       "      <td>4535.390351</td>\n",
       "      <td>5.982286</td>\n",
       "      <td>6.006272</td>\n",
       "      <td>3.713849</td>\n",
       "    </tr>\n",
       "    <tr>\n",
       "      <th>I</th>\n",
       "      <td>1.046952</td>\n",
       "      <td>61.934551</td>\n",
       "      <td>58.105150</td>\n",
       "      <td>5255.879568</td>\n",
       "      <td>6.272259</td>\n",
       "      <td>6.299028</td>\n",
       "      <td>3.890972</td>\n",
       "    </tr>\n",
       "    <tr>\n",
       "      <th>J</th>\n",
       "      <td>1.133215</td>\n",
       "      <td>61.902065</td>\n",
       "      <td>58.277729</td>\n",
       "      <td>5103.513274</td>\n",
       "      <td>6.460782</td>\n",
       "      <td>6.495074</td>\n",
       "      <td>4.006873</td>\n",
       "    </tr>\n",
       "  </tbody>\n",
       "</table>\n",
       "</div>"
      ],
      "text/plain": [
       "                    carat      depth      table        price    length  \\\n",
       "cut       color                                                          \n",
       "Fair      D      0.920123  64.048466  58.969325  4291.061350  6.018344   \n",
       "          E      0.856607  63.319643  59.364732  3682.312500  5.909063   \n",
       "          F      0.904712  63.508013  59.453205  3827.003205  5.990513   \n",
       "          G      1.023822  64.339809  58.773248  4239.254777  6.173822   \n",
       "          H      1.219175  64.585149  58.696370  5135.683168  6.579373   \n",
       "          I      1.198057  64.220571  59.237143  4685.445714  6.564457   \n",
       "          J      1.341176  64.357143  58.917647  4975.655462  6.747311   \n",
       "Good      D      0.744517  62.365710  58.541541  3405.382175  5.620076   \n",
       "          E      0.745134  62.203751  58.779957  3423.644159  5.617889   \n",
       "          F      0.775930  62.202310  58.910891  3495.750275  5.693443   \n",
       "          G      0.850896  62.526636  58.471986  4123.482204  5.850264   \n",
       "          H      0.914729  62.499573  58.611111  4276.254986  5.968789   \n",
       "          I      1.057222  62.475096  58.773946  5078.532567  6.253544   \n",
       "          J      1.099544  62.395765  58.813029  4574.172638  6.377003   \n",
       "Ideal     D      0.565766  61.678370  55.965632  2629.094566  5.186704   \n",
       "          E      0.578401  61.686677  55.967461  2597.550090  5.215762   \n",
       "          F      0.655829  61.675562  55.924203  3374.939362  5.408751   \n",
       "          G      0.700715  61.700164  55.902375  3720.706388  5.511214   \n",
       "          H      0.799525  61.733194  55.965843  3889.334831  5.731377   \n",
       "          I      0.913029  61.793598  56.021357  4451.970377  5.976197   \n",
       "          J      1.063594  61.821987  56.012612  4918.186384  6.320045   \n",
       "Premium   D      0.721547  61.169245  58.718964  3631.292576  5.599869   \n",
       "          E      0.717745  61.175909  58.779461  3538.914420  5.587116   \n",
       "          F      0.827036  61.259974  58.679279  4324.890176  5.876692   \n",
       "          G      0.841488  61.279480  58.702360  4500.742134  5.864254   \n",
       "          H      1.016449  61.322034  58.792034  5216.706780  6.244508   \n",
       "          I      1.144937  61.328641  58.771849  5946.180672  6.489531   \n",
       "          J      1.293094  61.390099  58.874752  6294.591584  6.809975   \n",
       "Very Good D      0.696424  61.750165  58.041309  3470.467284  5.501210   \n",
       "          E      0.676317  61.730250  58.038875  3214.652083  5.432467   \n",
       "          F      0.740961  61.721627  57.848429  3778.820240  5.610504   \n",
       "          G      0.766799  61.841279  57.784428  3872.753806  5.660204   \n",
       "          H      0.915948  61.968366  57.903015  4535.390351  5.982286   \n",
       "          I      1.046952  61.934551  58.105150  5255.879568  6.272259   \n",
       "          J      1.133215  61.902065  58.277729  5103.513274  6.460782   \n",
       "\n",
       "                    width    height  \n",
       "cut       color                      \n",
       "Fair      D      5.963190  3.839877  \n",
       "          E      5.858214  3.722143  \n",
       "          F      5.931122  3.787821  \n",
       "          G      6.114076  3.963153  \n",
       "          H      6.497393  4.219373  \n",
       "          I      6.493486  4.193486  \n",
       "          J      6.675882  4.319664  \n",
       "Good      D      5.633897  3.504864  \n",
       "          E      5.632454  3.496066  \n",
       "          F      5.709659  3.544609  \n",
       "          G      5.862824  3.647922  \n",
       "          H      5.974245  3.726937  \n",
       "          I      6.260536  3.901513  \n",
       "          J      6.386026  3.977459  \n",
       "Ideal     D      5.196224  3.201800  \n",
       "          E      5.232214  3.220346  \n",
       "          F      5.422250  3.338732  \n",
       "          G      5.524007  3.403120  \n",
       "          H      5.740446  3.539917  \n",
       "          I      5.989479  3.695270  \n",
       "          J      6.332098  3.912757  \n",
       "Premium   D      5.571472  3.415926  \n",
       "          E      5.558353  3.408875  \n",
       "          F      5.844655  3.588391  \n",
       "          G      5.833345  3.579641  \n",
       "          H      6.228110  3.811699  \n",
       "          I      6.453270  3.963894  \n",
       "          J      6.770644  4.168020  \n",
       "Very Good D      5.531613  3.405089  \n",
       "          E      5.463213  3.373996  \n",
       "          F      5.642717  3.472902  \n",
       "          G      5.688752  3.509883  \n",
       "          H      6.006272  3.713849  \n",
       "          I      6.299028  3.890972  \n",
       "          J      6.495074  4.006873  "
      ]
     },
     "execution_count": 8,
     "metadata": {},
     "output_type": "execute_result"
    }
   ],
   "source": [
    "# use vectorised cython functions instead.\n",
    "diamonds.groupby([\"cut\", \"color\"]).mean()"
   ]
  },
  {
   "cell_type": "markdown",
   "metadata": {},
   "source": [
    "The nature of the display does not allow for a great interpretation of the data. However, from the few fields shown, we can seee a clear difference in prices with respect to color. \n",
    "## What about clarity?"
   ]
  },
  {
   "cell_type": "code",
   "execution_count": 9,
   "metadata": {},
   "outputs": [
    {
     "data": {
      "text/html": [
       "<div>\n",
       "<style scoped>\n",
       "    .dataframe tbody tr th:only-of-type {\n",
       "        vertical-align: middle;\n",
       "    }\n",
       "\n",
       "    .dataframe tbody tr th {\n",
       "        vertical-align: top;\n",
       "    }\n",
       "\n",
       "    .dataframe thead th {\n",
       "        text-align: right;\n",
       "    }\n",
       "</style>\n",
       "<table border=\"1\" class=\"dataframe\">\n",
       "  <thead>\n",
       "    <tr style=\"text-align: right;\">\n",
       "      <th></th>\n",
       "      <th>carat</th>\n",
       "      <th>depth</th>\n",
       "      <th>table</th>\n",
       "      <th>price</th>\n",
       "      <th>length</th>\n",
       "      <th>width</th>\n",
       "      <th>height</th>\n",
       "    </tr>\n",
       "    <tr>\n",
       "      <th>clarity</th>\n",
       "      <th></th>\n",
       "      <th></th>\n",
       "      <th></th>\n",
       "      <th></th>\n",
       "      <th></th>\n",
       "      <th></th>\n",
       "      <th></th>\n",
       "    </tr>\n",
       "  </thead>\n",
       "  <tbody>\n",
       "    <tr>\n",
       "      <th>I1</th>\n",
       "      <td>1.283846</td>\n",
       "      <td>62.734278</td>\n",
       "      <td>58.303779</td>\n",
       "      <td>3924.168691</td>\n",
       "      <td>6.761093</td>\n",
       "      <td>6.709379</td>\n",
       "      <td>4.207908</td>\n",
       "    </tr>\n",
       "    <tr>\n",
       "      <th>IF</th>\n",
       "      <td>0.505123</td>\n",
       "      <td>61.510615</td>\n",
       "      <td>56.507207</td>\n",
       "      <td>2864.839106</td>\n",
       "      <td>4.968402</td>\n",
       "      <td>4.989827</td>\n",
       "      <td>3.061659</td>\n",
       "    </tr>\n",
       "    <tr>\n",
       "      <th>SI1</th>\n",
       "      <td>0.850482</td>\n",
       "      <td>61.853042</td>\n",
       "      <td>57.662541</td>\n",
       "      <td>3996.001148</td>\n",
       "      <td>5.888383</td>\n",
       "      <td>5.888256</td>\n",
       "      <td>3.639845</td>\n",
       "    </tr>\n",
       "    <tr>\n",
       "      <th>SI2</th>\n",
       "      <td>1.077648</td>\n",
       "      <td>61.772167</td>\n",
       "      <td>57.927181</td>\n",
       "      <td>5063.028606</td>\n",
       "      <td>6.401370</td>\n",
       "      <td>6.397826</td>\n",
       "      <td>3.948478</td>\n",
       "    </tr>\n",
       "    <tr>\n",
       "      <th>VS1</th>\n",
       "      <td>0.727158</td>\n",
       "      <td>61.667458</td>\n",
       "      <td>57.315151</td>\n",
       "      <td>3839.455391</td>\n",
       "      <td>5.572178</td>\n",
       "      <td>5.581828</td>\n",
       "      <td>3.441007</td>\n",
       "    </tr>\n",
       "    <tr>\n",
       "      <th>VS2</th>\n",
       "      <td>0.763935</td>\n",
       "      <td>61.724417</td>\n",
       "      <td>57.417401</td>\n",
       "      <td>3924.989395</td>\n",
       "      <td>5.657709</td>\n",
       "      <td>5.658859</td>\n",
       "      <td>3.491478</td>\n",
       "    </tr>\n",
       "    <tr>\n",
       "      <th>VVS1</th>\n",
       "      <td>0.503321</td>\n",
       "      <td>61.624651</td>\n",
       "      <td>56.884460</td>\n",
       "      <td>2523.114637</td>\n",
       "      <td>4.960364</td>\n",
       "      <td>4.975075</td>\n",
       "      <td>3.061294</td>\n",
       "    </tr>\n",
       "    <tr>\n",
       "      <th>VVS2</th>\n",
       "      <td>0.596202</td>\n",
       "      <td>61.663778</td>\n",
       "      <td>57.024990</td>\n",
       "      <td>3283.737071</td>\n",
       "      <td>5.218454</td>\n",
       "      <td>5.232118</td>\n",
       "      <td>3.221465</td>\n",
       "    </tr>\n",
       "  </tbody>\n",
       "</table>\n",
       "</div>"
      ],
      "text/plain": [
       "            carat      depth      table        price    length     width  \\\n",
       "clarity                                                                    \n",
       "I1       1.283846  62.734278  58.303779  3924.168691  6.761093  6.709379   \n",
       "IF       0.505123  61.510615  56.507207  2864.839106  4.968402  4.989827   \n",
       "SI1      0.850482  61.853042  57.662541  3996.001148  5.888383  5.888256   \n",
       "SI2      1.077648  61.772167  57.927181  5063.028606  6.401370  6.397826   \n",
       "VS1      0.727158  61.667458  57.315151  3839.455391  5.572178  5.581828   \n",
       "VS2      0.763935  61.724417  57.417401  3924.989395  5.657709  5.658859   \n",
       "VVS1     0.503321  61.624651  56.884460  2523.114637  4.960364  4.975075   \n",
       "VVS2     0.596202  61.663778  57.024990  3283.737071  5.218454  5.232118   \n",
       "\n",
       "           height  \n",
       "clarity            \n",
       "I1       4.207908  \n",
       "IF       3.061659  \n",
       "SI1      3.639845  \n",
       "SI2      3.948478  \n",
       "VS1      3.441007  \n",
       "VS2      3.491478  \n",
       "VVS1     3.061294  \n",
       "VVS2     3.221465  "
      ]
     },
     "execution_count": 9,
     "metadata": {},
     "output_type": "execute_result"
    }
   ],
   "source": [
    "diamonds.groupby(\"clarity\").mean()"
   ]
  },
  {
   "cell_type": "markdown",
   "metadata": {},
   "source": [
    "The focus of our analysis has upto now been on the mean prices. It is worth noting what the clarity actually [means](https://ggplot2.tidyverse.org/reference/diamonds.html): **a measurement of how clear the diamond is (I1 (worst), SI2, SI1, VS2, VS1, VVS2, VVS1, IF (best))**. With that in mind, the mean prices appear to follow a non linear relationship with respect to clarity. We will verify this as the notebook progresses statistically. \n",
    "\n",
    "Having look at a few basic stats about the data(remember we focused entirely on the mean), we now take a different route. We need to visualize our data which might reveal more trends and perhaps provide a more informative picture. However, important for modeling purposes is whether we have missing data.\n",
    "\n",
    "## Where's the missing data?"
   ]
  },
  {
   "cell_type": "markdown",
   "metadata": {},
   "source": [
    "There are several ways to find missing data, but we will represent it as the percentage of each column that is missing."
   ]
  },
  {
   "cell_type": "code",
   "execution_count": 10,
   "metadata": {},
   "outputs": [
    {
     "data": {
      "text/plain": [
       "carat      100.0\n",
       "cut        100.0\n",
       "color      100.0\n",
       "clarity    100.0\n",
       "depth      100.0\n",
       "table      100.0\n",
       "price      100.0\n",
       "length     100.0\n",
       "width      100.0\n",
       "height     100.0\n",
       "dtype: float64"
      ]
     },
     "execution_count": 10,
     "metadata": {},
     "output_type": "execute_result"
    }
   ],
   "source": [
    "#diamonds.apply(lambda x: sum(x.notnull())/len(x) * 100)\n",
    "# rewrite with transform\n",
    "#diamonds.dtypes\n",
    "# I conclude that there is no(as far as I know and have researched) more concise alternative to using apply\n",
    "#diamonds[diamonds.notnull()].groupby([\"cut\", \"color\", \"clarity\"]).transform(\"sum\")\n",
    "diamonds.notnull().sum() / len(diamonds) * 100"
   ]
  },
  {
   "cell_type": "markdown",
   "metadata": {},
   "source": [
    "From the above, we can see that all our columns in fact have 100% of the data which is great. We can then proceed with data visualization.\n",
    "## Data Visualization"
   ]
  },
  {
   "cell_type": "markdown",
   "metadata": {},
   "source": [
    "## Histogram of Prices\n",
    "\n",
    "To visualize the prices, we can either use `matplotlib`, `pandas` or `seaborn` amongst other libraries. We shall use `matplotlib`'s `hist`."
   ]
  },
  {
   "cell_type": "code",
   "execution_count": 11,
   "metadata": {},
   "outputs": [
    {
     "data": {
      "text/plain": [
       "Text(0.5, 0, 'Prices(USD)')"
      ]
     },
     "execution_count": 11,
     "metadata": {},
     "output_type": "execute_result"
    },
    {
     "data": {
      "image/png": "[encoded data removed]",
      "text/plain": [
       "<Figure size 432x288 with 1 Axes>"
      ]
     },
     "metadata": {
      "needs_background": "light"
     },
     "output_type": "display_data"
    }
   ],
   "source": [
    "%matplotlib inline\n",
    "plt.figure()\n",
    "plt.hist(x = \"price\", data = diamonds, color = \"indianred\", alpha = 0.8)\n",
    "plt.title(\"Histogram of Prices\", fontsize = 15)\n",
    "plt.ylabel(\"Frequency\", fontsize = 15)\n",
    "plt.xlabel(\"Prices(USD)\", fontsize = 15)\n"
   ]
  },
  {
   "cell_type": "markdown",
   "metadata": {},
   "source": [
    "From the above we it appears(as one might expect), the distribution of prices is **skewed to the right** ie as the prices increase, the number of diamonds decrease. We can carry out a skewness test using `scipy`'s `stats` module to verify this.\n",
    "\n",
    "## Skewness Test"
   ]
  },
  {
   "cell_type": "code",
   "execution_count": 12,
   "metadata": {},
   "outputs": [
    {
     "data": {
      "text/plain": [
       "1.6183502776053016"
      ]
     },
     "execution_count": 12,
     "metadata": {},
     "output_type": "execute_result"
    }
   ],
   "source": [
    "from scipy.stats import skew\n",
    "skew(diamonds[\"price\"])"
   ]
  },
  {
   "cell_type": "markdown",
   "metadata": {},
   "source": [
    "From the above, our skew is a positive value(greater than 1) indicating a positive skewness which means that our mean is greater than the median. Let us look at our data's median and mean prices to verify."
   ]
  },
  {
   "cell_type": "code",
   "execution_count": 13,
   "metadata": {},
   "outputs": [
    {
     "data": {
      "text/plain": [
       "3932.799721913237"
      ]
     },
     "metadata": {},
     "output_type": "display_data"
    },
    {
     "data": {
      "text/plain": [
       "2401.0"
      ]
     },
     "metadata": {},
     "output_type": "display_data"
    }
   ],
   "source": [
    "from IPython.display import display\n",
    "display(diamonds[\"price\"].mean())\n",
    "display(diamonds[\"price\"].median())\n"
   ]
  },
  {
   "cell_type": "markdown",
   "metadata": {},
   "source": [
    "## Prices by cut\n",
    "\n",
    "For this part, we shall uses `seaborn`'s awesome functions that deal with categorical plots."
   ]
  },
  {
   "cell_type": "code",
   "execution_count": 15,
   "metadata": {},
   "outputs": [
    {
     "data": {
      "text/plain": [
       "Text(0.5, 1, 'Prices by cut')"
      ]
     },
     "execution_count": 15,
     "metadata": {},
     "output_type": "execute_result"
    },
    {
     "data": {
      "image/png": "[encoded data removed]",
      "text/plain": [
       "<Figure size 360x360 with 1 Axes>"
      ]
     },
     "metadata": {
      "needs_background": "light"
     },
     "output_type": "display_data"
    }
   ],
   "source": [
    "sns.catplot(x=\"cut\", y=\"price\",kind=\"bar\", data = diamonds)\n",
    "plt.title(\"Prices by cut\", fontsize = 15)"
   ]
  },
  {
   "cell_type": "markdown",
   "metadata": {},
   "source": [
    "However, to make the above plot more \"attractive\"/informative/intuitive, we could go a step further and sort the values before plotting them."
   ]
  },
  {
   "cell_type": "code",
   "execution_count": 16,
   "metadata": {},
   "outputs": [
    {
     "data": {
      "text/plain": [
       "<seaborn.axisgrid.FacetGrid at 0x7f45934a0c50>"
      ]
     },
     "execution_count": 16,
     "metadata": {},
     "output_type": "execute_result"
    },
    {
     "data": {
      "image/png": "[encoded data removed]",
      "text/plain": [
       "<Figure size 360x360 with 1 Axes>"
      ]
     },
     "metadata": {
      "needs_background": "light"
     },
     "output_type": "display_data"
    }
   ],
   "source": [
    "sorted_data = diamonds.sort_values(by = [\"price\"] , ascending = False)\n",
    "#sorted_data.head()\n",
    "# probably a better way exists that leverages col_order\n",
    "# This sorts the x-axis in alphabetical order which is a bit less informative\n",
    "sns.catplot(x = \"cut\", y=\"price\", data = sorted_data, kind = \"bar\")\n",
    "\n"
   ]
  },
  {
   "cell_type": "markdown",
   "metadata": {},
   "source": [
    "As shown in [Mean Prices by Cut](#Mean-Prices-by-Cut), the prices do vary by cut and as already stated the relatioship appears to be linear ie as the quality(cut) of the diamond increases, so does its price. There will however always be outliers.  Let us take a look at the prices by carat.\n",
    "\n",
    "## Prices by carat"
   ]
  },
  {
   "cell_type": "code",
   "execution_count": 17,
   "metadata": {},
   "outputs": [
    {
     "data": {
      "text/plain": [
       "Text(0, 0.5, 'Price')"
      ]
     },
     "execution_count": 17,
     "metadata": {},
     "output_type": "execute_result"
    },
    {
     "data": {
      "image/png": "[encoded data removed]",
      "text/plain": [
       "<Figure size 432x288 with 1 Axes>"
      ]
     },
     "metadata": {
      "needs_background": "light"
     },
     "output_type": "display_data"
    }
   ],
   "source": [
    "plt.scatter(x = \"carat\", y = \"price\", data = diamonds, color = \"indianred\")\n",
    "plt.title(\"Prices by carat\", fontsize = 15)\n",
    "plt.xlabel(\"Carat\", fontsize = 14)\n",
    "plt.ylabel(\"Price\", fontsize = 14)"
   ]
  },
  {
   "cell_type": "markdown",
   "metadata": {},
   "source": [
    "In general, the distribution of the prices is such that most of the diamonds fall in the lower half. On the issue of outliers, there are visible outliers for instance 5 carat diamonds which is a bit unusual. To get a better understanding of these outliers, we shall filter our data set for these outliers and get more info about them.\n",
    "\n",
    "## Outliers by carat\n",
    "\n",
    "We see that there is only a single diamond with a carat greater than or equal to 5. Interesting is the fact that the price of this diamond is comparatively high especially given it is of just fair cut. \n"
   ]
  },
  {
   "cell_type": "code",
   "execution_count": 18,
   "metadata": {},
   "outputs": [
    {
     "data": {
      "text/html": [
       "<div>\n",
       "<style scoped>\n",
       "    .dataframe tbody tr th:only-of-type {\n",
       "        vertical-align: middle;\n",
       "    }\n",
       "\n",
       "    .dataframe tbody tr th {\n",
       "        vertical-align: top;\n",
       "    }\n",
       "\n",
       "    .dataframe thead th {\n",
       "        text-align: right;\n",
       "    }\n",
       "</style>\n",
       "<table border=\"1\" class=\"dataframe\">\n",
       "  <thead>\n",
       "    <tr style=\"text-align: right;\">\n",
       "      <th></th>\n",
       "      <th>carat</th>\n",
       "      <th>cut</th>\n",
       "      <th>color</th>\n",
       "      <th>clarity</th>\n",
       "      <th>depth</th>\n",
       "      <th>table</th>\n",
       "      <th>price</th>\n",
       "      <th>length</th>\n",
       "      <th>width</th>\n",
       "      <th>height</th>\n",
       "    </tr>\n",
       "  </thead>\n",
       "  <tbody>\n",
       "    <tr>\n",
       "      <th>27415</th>\n",
       "      <td>5.01</td>\n",
       "      <td>Fair</td>\n",
       "      <td>J</td>\n",
       "      <td>I1</td>\n",
       "      <td>65.5</td>\n",
       "      <td>59.0</td>\n",
       "      <td>18018</td>\n",
       "      <td>10.74</td>\n",
       "      <td>10.54</td>\n",
       "      <td>6.98</td>\n",
       "    </tr>\n",
       "  </tbody>\n",
       "</table>\n",
       "</div>"
      ],
      "text/plain": [
       "       carat   cut color clarity  depth  table  price  length  width  height\n",
       "27415   5.01  Fair     J      I1   65.5   59.0  18018   10.74  10.54    6.98"
      ]
     },
     "execution_count": 18,
     "metadata": {},
     "output_type": "execute_result"
    }
   ],
   "source": [
    "diamonds[diamonds[\"carat\"] >=5]"
   ]
  },
  {
   "cell_type": "markdown",
   "metadata": {},
   "source": [
    "For completeness, we shall show a more pandas like way to achieve the above result. This achieves the same purpose in arguably more user-friendly code. This is especially useful if one is used to querying data bases."
   ]
  },
  {
   "cell_type": "code",
   "execution_count": 19,
   "metadata": {},
   "outputs": [
    {
     "data": {
      "text/html": [
       "<div>\n",
       "<style scoped>\n",
       "    .dataframe tbody tr th:only-of-type {\n",
       "        vertical-align: middle;\n",
       "    }\n",
       "\n",
       "    .dataframe tbody tr th {\n",
       "        vertical-align: top;\n",
       "    }\n",
       "\n",
       "    .dataframe thead th {\n",
       "        text-align: right;\n",
       "    }\n",
       "</style>\n",
       "<table border=\"1\" class=\"dataframe\">\n",
       "  <thead>\n",
       "    <tr style=\"text-align: right;\">\n",
       "      <th></th>\n",
       "      <th>carat</th>\n",
       "      <th>cut</th>\n",
       "      <th>color</th>\n",
       "      <th>clarity</th>\n",
       "      <th>depth</th>\n",
       "      <th>table</th>\n",
       "      <th>price</th>\n",
       "      <th>length</th>\n",
       "      <th>width</th>\n",
       "      <th>height</th>\n",
       "    </tr>\n",
       "  </thead>\n",
       "  <tbody>\n",
       "    <tr>\n",
       "      <th>27415</th>\n",
       "      <td>5.01</td>\n",
       "      <td>Fair</td>\n",
       "      <td>J</td>\n",
       "      <td>I1</td>\n",
       "      <td>65.5</td>\n",
       "      <td>59.0</td>\n",
       "      <td>18018</td>\n",
       "      <td>10.74</td>\n",
       "      <td>10.54</td>\n",
       "      <td>6.98</td>\n",
       "    </tr>\n",
       "  </tbody>\n",
       "</table>\n",
       "</div>"
      ],
      "text/plain": [
       "       carat   cut color clarity  depth  table  price  length  width  height\n",
       "27415   5.01  Fair     J      I1   65.5   59.0  18018   10.74  10.54    6.98"
      ]
     },
     "execution_count": 19,
     "metadata": {},
     "output_type": "execute_result"
    }
   ],
   "source": [
    "diamonds.query(\"carat >=5\")"
   ]
  },
  {
   "cell_type": "markdown",
   "metadata": {},
   "source": [
    "## Box Plots\n",
    "\n",
    "Having looked at a few plots, perhaps looking at box and whiskers plots might provide more insight about the data set. What we are interested in is the distirbution of our data across various categories. Let's look at the clarity."
   ]
  },
  {
   "cell_type": "code",
   "execution_count": 20,
   "metadata": {},
   "outputs": [
    {
     "data": {
      "text/plain": [
       "Text(0, 0.5, 'price')"
      ]
     },
     "execution_count": 20,
     "metadata": {},
     "output_type": "execute_result"
    },
    {
     "data": {
      "image/png": "[encoded data removed]",
      "text/plain": [
       "<Figure size 432x288 with 1 Axes>"
      ]
     },
     "metadata": {
      "needs_background": "light"
     },
     "output_type": "display_data"
    }
   ],
   "source": [
    "sns.boxplot(x=\"cut\", y=\"price\", data = diamonds, palette = \"RdBu\")\n",
    "plt.title(\"Price Distribution by Cut\", fontsize = 15, fontweight = \"bold\")\n",
    "plt.xlabel(\"cut\",size=14)\n",
    "plt.ylabel(\"price\", size = 15)"
   ]
  },
  {
   "cell_type": "markdown",
   "metadata": {},
   "source": [
    "The above box plot does give a general idea of how the prices are distributed across the different cuts. As noted previously, there appears to be a linear relationship between cut and price. We however, see a few points that do not exactly fall within the range ie they are above the upper quartile(outliers).\n",
    "\n",
    "## Zooming In\n",
    "\n",
    "We therefore take a look at these by \"zooming in\" on the data set as follows. It is interesting to note that the mean prices for this data set do not appear to follow a linear relationship. "
   ]
  },
  {
   "cell_type": "code",
   "execution_count": 21,
   "metadata": {},
   "outputs": [
    {
     "data": {
      "text/plain": [
       "<matplotlib.axes._subplots.AxesSubplot at 0x7f459334c8d0>"
      ]
     },
     "execution_count": 21,
     "metadata": {},
     "output_type": "execute_result"
    },
    {
     "data": {
      "image/png": "[encoded data removed]",
      "text/plain": [
       "<Figure size 432x288 with 1 Axes>"
      ]
     },
     "metadata": {
      "needs_background": "light"
     },
     "output_type": "display_data"
    }
   ],
   "source": [
    "filtered = diamonds.query(\"price > 10000\")\n",
    "\n",
    "sns.boxplot(x = \"cut\", y = \"price\", data = filtered, palette = \"RdBu\")"
   ]
  },
  {
   "cell_type": "markdown",
   "metadata": {},
   "source": [
    "We have seen(visually) how price is influence by cut but what happens when we add clarity to the story?\n",
    "## Prices by cut and clarity"
   ]
  },
  {
   "cell_type": "code",
   "execution_count": 22,
   "metadata": {},
   "outputs": [
    {
     "data": {
      "text/plain": [
       "<seaborn.axisgrid.FacetGrid at 0x7f45932f9ef0>"
      ]
     },
     "execution_count": 22,
     "metadata": {},
     "output_type": "execute_result"
    },
    {
     "data": {
      "image/png": "[encoded data removed]",
      "text/plain": [
       "<Figure size 1080x1728 with 40 Axes>"
      ]
     },
     "metadata": {
      "needs_background": "light"
     },
     "output_type": "display_data"
    }
   ],
   "source": [
    "\n",
    "facets = sns.FacetGrid(col = \"cut\", row = \"clarity\", data = diamonds)\n",
    "facets.map(plt.hist, \"price\")\n"
   ]
  },
  {
   "cell_type": "markdown",
   "metadata": {},
   "source": [
    "The above plot gives a more detailed account of the price distribution with respect to cut and clarity. The majority of the diamonds appear to fall in the ideal and VS2 category.\n",
    "\n",
    "Interesting are the very low numbers of diamonds that fit I1 and good cut criterion. It is also surprising to see that clarity IF and fair cut almost has no diamonds. \n",
    "\n",
    "This is surprising because IF(Internally flawless) diamonds would be expected to be more even with a fair cut. This might however imply that these are extremely rare diamonds.\n",
    "\n",
    "To get a clearer picture, we could visualize the distribution by clarity.\n",
    "\n",
    "## Are some diamonds rare?"
   ]
  },
  {
   "cell_type": "code",
   "execution_count": 23,
   "metadata": {},
   "outputs": [
    {
     "data": {
      "text/plain": [
       "<matplotlib.axes._subplots.AxesSubplot at 0x7f458f9c1ef0>"
      ]
     },
     "execution_count": 23,
     "metadata": {},
     "output_type": "execute_result"
    },
    {
     "data": {
      "image/png": "[encoded data removed]",
      "text/plain": [
       "<Figure size 432x288 with 1 Axes>"
      ]
     },
     "metadata": {
      "needs_background": "light"
     },
     "output_type": "display_data"
    }
   ],
   "source": [
    "column_order = sorted(diamonds.clarity.unique())\n",
    "sns.countplot(x=\"clarity\", data = diamonds.sort_values([\"price\", \"depth\"]), order = column_order)"
   ]
  },
  {
   "cell_type": "markdown",
   "metadata": {},
   "source": [
    "Indeed, we see that internally flawless(IF) diamonds occupy a relatively small portion of the data set. This could perhaps be due to mining techniques. Indeed, [these are extremely rare diamonds](https://beyond4cs.com/clarity/if-and-fl/).\n",
    "\n",
    "## Violin Plots\n",
    "\n",
    "We can take this a step further to visualize price distribution by clarity. In this example, we are essentially zooming in on our data to get the distribution of diamonds whose price is greater than or equal to 10000 USD."
   ]
  },
  {
   "cell_type": "code",
   "execution_count": 24,
   "metadata": {},
   "outputs": [
    {
     "data": {
      "text/plain": [
       "<matplotlib.axes._subplots.AxesSubplot at 0x7f458f9788d0>"
      ]
     },
     "execution_count": 24,
     "metadata": {},
     "output_type": "execute_result"
    },
    {
     "data": {
      "image/png": "[encoded data removed]",
      "text/plain": [
       "<Figure size 432x288 with 1 Axes>"
      ]
     },
     "metadata": {
      "needs_background": "light"
     },
     "output_type": "display_data"
    }
   ],
   "source": [
    "sns.violinplot(x=\"clarity\", y=\"price\", data = diamonds.query(\"price > 10000\").sort_values(\"price\"),\n",
    "              order = column_order)"
   ]
  },
  {
   "cell_type": "markdown",
   "metadata": {},
   "source": [
    "When I first made this plot, one could see that the internally flawless diamonds had a lower mean price than other levels of clarity. It is interesting however and as one might probably have expected to see that if we zoom in on the dataset to include higher prices, the mean price of the innternally flawless is higher than that of included(I1) and almost equal to that of the slightly included. \n",
    "\n",
    "This therefore suggests that the price of a diamond is(logically) determined by more than just its clarity. \n",
    "\n",
    "## Flawless but cheap?\n"
   ]
  },
  {
   "cell_type": "code",
   "execution_count": 25,
   "metadata": {},
   "outputs": [
    {
     "data": {
      "text/html": [
       "<div>\n",
       "<style scoped>\n",
       "    .dataframe tbody tr th:only-of-type {\n",
       "        vertical-align: middle;\n",
       "    }\n",
       "\n",
       "    .dataframe tbody tr th {\n",
       "        vertical-align: top;\n",
       "    }\n",
       "\n",
       "    .dataframe thead th {\n",
       "        text-align: right;\n",
       "    }\n",
       "</style>\n",
       "<table border=\"1\" class=\"dataframe\">\n",
       "  <thead>\n",
       "    <tr style=\"text-align: right;\">\n",
       "      <th></th>\n",
       "      <th>carat</th>\n",
       "      <th>depth</th>\n",
       "      <th>table</th>\n",
       "      <th>price</th>\n",
       "      <th>length</th>\n",
       "      <th>width</th>\n",
       "      <th>height</th>\n",
       "    </tr>\n",
       "    <tr>\n",
       "      <th>clarity</th>\n",
       "      <th></th>\n",
       "      <th></th>\n",
       "      <th></th>\n",
       "      <th></th>\n",
       "      <th></th>\n",
       "      <th></th>\n",
       "      <th></th>\n",
       "    </tr>\n",
       "  </thead>\n",
       "  <tbody>\n",
       "    <tr>\n",
       "      <th>I1</th>\n",
       "      <td>1.283846</td>\n",
       "      <td>62.734278</td>\n",
       "      <td>58.303779</td>\n",
       "      <td>3924.168691</td>\n",
       "      <td>6.761093</td>\n",
       "      <td>6.709379</td>\n",
       "      <td>4.207908</td>\n",
       "    </tr>\n",
       "    <tr>\n",
       "      <th>IF</th>\n",
       "      <td>0.505123</td>\n",
       "      <td>61.510615</td>\n",
       "      <td>56.507207</td>\n",
       "      <td>2864.839106</td>\n",
       "      <td>4.968402</td>\n",
       "      <td>4.989827</td>\n",
       "      <td>3.061659</td>\n",
       "    </tr>\n",
       "    <tr>\n",
       "      <th>SI1</th>\n",
       "      <td>0.850482</td>\n",
       "      <td>61.853042</td>\n",
       "      <td>57.662541</td>\n",
       "      <td>3996.001148</td>\n",
       "      <td>5.888383</td>\n",
       "      <td>5.888256</td>\n",
       "      <td>3.639845</td>\n",
       "    </tr>\n",
       "    <tr>\n",
       "      <th>SI2</th>\n",
       "      <td>1.077648</td>\n",
       "      <td>61.772167</td>\n",
       "      <td>57.927181</td>\n",
       "      <td>5063.028606</td>\n",
       "      <td>6.401370</td>\n",
       "      <td>6.397826</td>\n",
       "      <td>3.948478</td>\n",
       "    </tr>\n",
       "    <tr>\n",
       "      <th>VS1</th>\n",
       "      <td>0.727158</td>\n",
       "      <td>61.667458</td>\n",
       "      <td>57.315151</td>\n",
       "      <td>3839.455391</td>\n",
       "      <td>5.572178</td>\n",
       "      <td>5.581828</td>\n",
       "      <td>3.441007</td>\n",
       "    </tr>\n",
       "    <tr>\n",
       "      <th>VS2</th>\n",
       "      <td>0.763935</td>\n",
       "      <td>61.724417</td>\n",
       "      <td>57.417401</td>\n",
       "      <td>3924.989395</td>\n",
       "      <td>5.657709</td>\n",
       "      <td>5.658859</td>\n",
       "      <td>3.491478</td>\n",
       "    </tr>\n",
       "    <tr>\n",
       "      <th>VVS1</th>\n",
       "      <td>0.503321</td>\n",
       "      <td>61.624651</td>\n",
       "      <td>56.884460</td>\n",
       "      <td>2523.114637</td>\n",
       "      <td>4.960364</td>\n",
       "      <td>4.975075</td>\n",
       "      <td>3.061294</td>\n",
       "    </tr>\n",
       "    <tr>\n",
       "      <th>VVS2</th>\n",
       "      <td>0.596202</td>\n",
       "      <td>61.663778</td>\n",
       "      <td>57.024990</td>\n",
       "      <td>3283.737071</td>\n",
       "      <td>5.218454</td>\n",
       "      <td>5.232118</td>\n",
       "      <td>3.221465</td>\n",
       "    </tr>\n",
       "  </tbody>\n",
       "</table>\n",
       "</div>"
      ],
      "text/plain": [
       "            carat      depth      table        price    length     width  \\\n",
       "clarity                                                                    \n",
       "I1       1.283846  62.734278  58.303779  3924.168691  6.761093  6.709379   \n",
       "IF       0.505123  61.510615  56.507207  2864.839106  4.968402  4.989827   \n",
       "SI1      0.850482  61.853042  57.662541  3996.001148  5.888383  5.888256   \n",
       "SI2      1.077648  61.772167  57.927181  5063.028606  6.401370  6.397826   \n",
       "VS1      0.727158  61.667458  57.315151  3839.455391  5.572178  5.581828   \n",
       "VS2      0.763935  61.724417  57.417401  3924.989395  5.657709  5.658859   \n",
       "VVS1     0.503321  61.624651  56.884460  2523.114637  4.960364  4.975075   \n",
       "VVS2     0.596202  61.663778  57.024990  3283.737071  5.218454  5.232118   \n",
       "\n",
       "           height  \n",
       "clarity            \n",
       "I1       4.207908  \n",
       "IF       3.061659  \n",
       "SI1      3.639845  \n",
       "SI2      3.948478  \n",
       "VS1      3.441007  \n",
       "VS2      3.491478  \n",
       "VVS1     3.061294  \n",
       "VVS2     3.221465  "
      ]
     },
     "execution_count": 25,
     "metadata": {},
     "output_type": "execute_result"
    }
   ],
   "source": [
    "diamonds.groupby(\"clarity\").mean()"
   ]
  },
  {
   "cell_type": "markdown",
   "metadata": {},
   "source": [
    "To take the above a step further, we can sort the clarity in increasing or decreasing order as per the industry standards. "
   ]
  },
  {
   "cell_type": "code",
   "execution_count": 26,
   "metadata": {},
   "outputs": [
    {
     "data": {
      "text/html": [
       "<div>\n",
       "<style scoped>\n",
       "    .dataframe tbody tr th:only-of-type {\n",
       "        vertical-align: middle;\n",
       "    }\n",
       "\n",
       "    .dataframe tbody tr th {\n",
       "        vertical-align: top;\n",
       "    }\n",
       "\n",
       "    .dataframe thead th {\n",
       "        text-align: right;\n",
       "    }\n",
       "</style>\n",
       "<table border=\"1\" class=\"dataframe\">\n",
       "  <thead>\n",
       "    <tr style=\"text-align: right;\">\n",
       "      <th></th>\n",
       "      <th>carat</th>\n",
       "      <th>depth</th>\n",
       "      <th>table</th>\n",
       "      <th>price</th>\n",
       "      <th>length</th>\n",
       "      <th>width</th>\n",
       "      <th>height</th>\n",
       "    </tr>\n",
       "    <tr>\n",
       "      <th>clairty</th>\n",
       "      <th></th>\n",
       "      <th></th>\n",
       "      <th></th>\n",
       "      <th></th>\n",
       "      <th></th>\n",
       "      <th></th>\n",
       "      <th></th>\n",
       "    </tr>\n",
       "  </thead>\n",
       "  <tbody>\n",
       "    <tr>\n",
       "      <th>IF</th>\n",
       "      <td>0.505123</td>\n",
       "      <td>61.510615</td>\n",
       "      <td>56.507207</td>\n",
       "      <td>2864.839106</td>\n",
       "      <td>4.968402</td>\n",
       "      <td>4.989827</td>\n",
       "      <td>3.061659</td>\n",
       "    </tr>\n",
       "    <tr>\n",
       "      <th>VVS1</th>\n",
       "      <td>0.503321</td>\n",
       "      <td>61.624651</td>\n",
       "      <td>56.884460</td>\n",
       "      <td>2523.114637</td>\n",
       "      <td>4.960364</td>\n",
       "      <td>4.975075</td>\n",
       "      <td>3.061294</td>\n",
       "    </tr>\n",
       "    <tr>\n",
       "      <th>VVS2</th>\n",
       "      <td>0.596202</td>\n",
       "      <td>61.663778</td>\n",
       "      <td>57.024990</td>\n",
       "      <td>3283.737071</td>\n",
       "      <td>5.218454</td>\n",
       "      <td>5.232118</td>\n",
       "      <td>3.221465</td>\n",
       "    </tr>\n",
       "    <tr>\n",
       "      <th>VS1</th>\n",
       "      <td>0.727158</td>\n",
       "      <td>61.667458</td>\n",
       "      <td>57.315151</td>\n",
       "      <td>3839.455391</td>\n",
       "      <td>5.572178</td>\n",
       "      <td>5.581828</td>\n",
       "      <td>3.441007</td>\n",
       "    </tr>\n",
       "    <tr>\n",
       "      <th>VS2</th>\n",
       "      <td>0.763935</td>\n",
       "      <td>61.724417</td>\n",
       "      <td>57.417401</td>\n",
       "      <td>3924.989395</td>\n",
       "      <td>5.657709</td>\n",
       "      <td>5.658859</td>\n",
       "      <td>3.491478</td>\n",
       "    </tr>\n",
       "    <tr>\n",
       "      <th>SI1</th>\n",
       "      <td>0.850482</td>\n",
       "      <td>61.853042</td>\n",
       "      <td>57.662541</td>\n",
       "      <td>3996.001148</td>\n",
       "      <td>5.888383</td>\n",
       "      <td>5.888256</td>\n",
       "      <td>3.639845</td>\n",
       "    </tr>\n",
       "    <tr>\n",
       "      <th>SI2</th>\n",
       "      <td>1.077648</td>\n",
       "      <td>61.772167</td>\n",
       "      <td>57.927181</td>\n",
       "      <td>5063.028606</td>\n",
       "      <td>6.401370</td>\n",
       "      <td>6.397826</td>\n",
       "      <td>3.948478</td>\n",
       "    </tr>\n",
       "    <tr>\n",
       "      <th>I1</th>\n",
       "      <td>1.283846</td>\n",
       "      <td>62.734278</td>\n",
       "      <td>58.303779</td>\n",
       "      <td>3924.168691</td>\n",
       "      <td>6.761093</td>\n",
       "      <td>6.709379</td>\n",
       "      <td>4.207908</td>\n",
       "    </tr>\n",
       "  </tbody>\n",
       "</table>\n",
       "</div>"
      ],
      "text/plain": [
       "            carat      depth      table        price    length     width  \\\n",
       "clairty                                                                    \n",
       "IF       0.505123  61.510615  56.507207  2864.839106  4.968402  4.989827   \n",
       "VVS1     0.503321  61.624651  56.884460  2523.114637  4.960364  4.975075   \n",
       "VVS2     0.596202  61.663778  57.024990  3283.737071  5.218454  5.232118   \n",
       "VS1      0.727158  61.667458  57.315151  3839.455391  5.572178  5.581828   \n",
       "VS2      0.763935  61.724417  57.417401  3924.989395  5.657709  5.658859   \n",
       "SI1      0.850482  61.853042  57.662541  3996.001148  5.888383  5.888256   \n",
       "SI2      1.077648  61.772167  57.927181  5063.028606  6.401370  6.397826   \n",
       "I1       1.283846  62.734278  58.303779  3924.168691  6.761093  6.709379   \n",
       "\n",
       "           height  \n",
       "clairty            \n",
       "IF       3.061659  \n",
       "VVS1     3.061294  \n",
       "VVS2     3.221465  \n",
       "VS1      3.441007  \n",
       "VS2      3.491478  \n",
       "SI1      3.639845  \n",
       "SI2      3.948478  \n",
       "I1       4.207908  "
      ]
     },
     "execution_count": 26,
     "metadata": {},
     "output_type": "execute_result"
    }
   ],
   "source": [
    "#diamonds.clarity, order = [\"IF\", \"VVS1\", \"VVS2\", \"VS1\", \"VS2\", \"SI1\",\"SI2\",\"I1\"])\n",
    "# convert to categorical\n",
    "#pd.Categorical(diamonds[\"clarity\"], categories= [\"IF\", \"VVS1\", \"VVS2\", \"VS1\", \"VS2\", \"SI1\",\"SI2\",\"I1\"] )\n",
    "# This is probbaly computationally expensive\n",
    "categorize_data = pd.CategoricalDtype(categories= [\"IF\", \"VVS1\", \"VVS2\", \"VS1\", \"VS2\", \"SI1\",\"SI2\",\"I1\"])\n",
    "diamonds[\"clairty\"] = pd.Series(diamonds.clarity, dtype = categorize_data)\n",
    "diamonds.groupby(\"clairty\").mean()"
   ]
  },
  {
   "cell_type": "markdown",
   "metadata": {},
   "source": [
    "The above is probably a better approach since we now have our data sorted as per an expert in the diamond mining business would expect. Let's see what a plot of this data would look like."
   ]
  },
  {
   "cell_type": "code",
   "execution_count": 27,
   "metadata": {},
   "outputs": [
    {
     "data": {
      "text/plain": [
       "<seaborn.axisgrid.FacetGrid at 0x7f458f978438>"
      ]
     },
     "execution_count": 27,
     "metadata": {},
     "output_type": "execute_result"
    },
    {
     "data": {
      "image/png": "[encoded data removed]",
      "text/plain": [
       "<Figure size 360x360 with 1 Axes>"
      ]
     },
     "metadata": {
      "needs_background": "light"
     },
     "output_type": "display_data"
    }
   ],
   "source": [
    "# Ok, seaborn's x axis really needs an upgrade. It is currently in my opinion less flexible.\n",
    "sns.catplot(x = \"clarity\", y=\"price\", data =  diamonds, kind = \"bar\",\n",
    "          col_order = [\"IF\", \"VVS1\", \"VVS2\", \"VS1\", \"VS2\", \"SI1\",\"SI2\",\"I1\"])"
   ]
  },
  {
   "cell_type": "markdown",
   "metadata": {},
   "source": [
    "# Linear regression in the diamond mines\n",
    "\n",
    "In order to carry out regression analysis on our data (build a model), we need to import a popular Machine Learning library(package) known as [scikit-learn](https://scikit-learn.org/stable/index.html)(**sklearn**). In our case, we are more interested in ordinary least squares regression which is [documented here](https://scikit-learn.org/stable/modules/linear_model.html#ordinary-least-squares). \n",
    "\n",
    "## Data Split"
   ]
  },
  {
   "cell_type": "code",
   "execution_count": 28,
   "metadata": {},
   "outputs": [],
   "source": [
    "from sklearn import linear_model\n",
    "from sklearn.model_selection import train_test_split"
   ]
  },
  {
   "cell_type": "markdown",
   "metadata": {},
   "source": [
    "Next, we need to split our dataset into a training and test/validation set. We shall then split these into a y(dependent variable) and x(predictor variable(s)). In this case, our y will be the price of a diamond while for starters, we'll build a model that uses all our other attributes for predicting the price of a diamond."
   ]
  },
  {
   "cell_type": "code",
   "execution_count": 29,
   "metadata": {},
   "outputs": [
    {
     "data": {
      "text/plain": [
       "count    53940.000000\n",
       "mean      3932.799722\n",
       "std       3989.439738\n",
       "min        326.000000\n",
       "25%        950.000000\n",
       "50%       2401.000000\n",
       "75%       5324.250000\n",
       "max      18823.000000\n",
       "Name: price, dtype: float64"
      ]
     },
     "metadata": {},
     "output_type": "display_data"
    },
    {
     "data": {
      "text/html": [
       "<div>\n",
       "<style scoped>\n",
       "    .dataframe tbody tr th:only-of-type {\n",
       "        vertical-align: middle;\n",
       "    }\n",
       "\n",
       "    .dataframe tbody tr th {\n",
       "        vertical-align: top;\n",
       "    }\n",
       "\n",
       "    .dataframe thead th {\n",
       "        text-align: right;\n",
       "    }\n",
       "</style>\n",
       "<table border=\"1\" class=\"dataframe\">\n",
       "  <thead>\n",
       "    <tr style=\"text-align: right;\">\n",
       "      <th></th>\n",
       "      <th>carat</th>\n",
       "      <th>cut</th>\n",
       "      <th>color</th>\n",
       "      <th>clarity</th>\n",
       "      <th>depth</th>\n",
       "      <th>table</th>\n",
       "      <th>length</th>\n",
       "      <th>width</th>\n",
       "      <th>height</th>\n",
       "      <th>clairty</th>\n",
       "    </tr>\n",
       "  </thead>\n",
       "  <tbody>\n",
       "    <tr>\n",
       "      <th>0</th>\n",
       "      <td>0.23</td>\n",
       "      <td>Ideal</td>\n",
       "      <td>E</td>\n",
       "      <td>SI2</td>\n",
       "      <td>61.5</td>\n",
       "      <td>55.0</td>\n",
       "      <td>3.95</td>\n",
       "      <td>3.98</td>\n",
       "      <td>2.43</td>\n",
       "      <td>SI2</td>\n",
       "    </tr>\n",
       "    <tr>\n",
       "      <th>1</th>\n",
       "      <td>0.21</td>\n",
       "      <td>Premium</td>\n",
       "      <td>E</td>\n",
       "      <td>SI1</td>\n",
       "      <td>59.8</td>\n",
       "      <td>61.0</td>\n",
       "      <td>3.89</td>\n",
       "      <td>3.84</td>\n",
       "      <td>2.31</td>\n",
       "      <td>SI1</td>\n",
       "    </tr>\n",
       "    <tr>\n",
       "      <th>2</th>\n",
       "      <td>0.23</td>\n",
       "      <td>Good</td>\n",
       "      <td>E</td>\n",
       "      <td>VS1</td>\n",
       "      <td>56.9</td>\n",
       "      <td>65.0</td>\n",
       "      <td>4.05</td>\n",
       "      <td>4.07</td>\n",
       "      <td>2.31</td>\n",
       "      <td>VS1</td>\n",
       "    </tr>\n",
       "    <tr>\n",
       "      <th>3</th>\n",
       "      <td>0.29</td>\n",
       "      <td>Premium</td>\n",
       "      <td>I</td>\n",
       "      <td>VS2</td>\n",
       "      <td>62.4</td>\n",
       "      <td>58.0</td>\n",
       "      <td>4.20</td>\n",
       "      <td>4.23</td>\n",
       "      <td>2.63</td>\n",
       "      <td>VS2</td>\n",
       "    </tr>\n",
       "    <tr>\n",
       "      <th>4</th>\n",
       "      <td>0.31</td>\n",
       "      <td>Good</td>\n",
       "      <td>J</td>\n",
       "      <td>SI2</td>\n",
       "      <td>63.3</td>\n",
       "      <td>58.0</td>\n",
       "      <td>4.34</td>\n",
       "      <td>4.35</td>\n",
       "      <td>2.75</td>\n",
       "      <td>SI2</td>\n",
       "    </tr>\n",
       "  </tbody>\n",
       "</table>\n",
       "</div>"
      ],
      "text/plain": [
       "   carat      cut color clarity  depth  table  length  width  height clairty\n",
       "0   0.23    Ideal     E     SI2   61.5   55.0    3.95   3.98    2.43     SI2\n",
       "1   0.21  Premium     E     SI1   59.8   61.0    3.89   3.84    2.31     SI1\n",
       "2   0.23     Good     E     VS1   56.9   65.0    4.05   4.07    2.31     VS1\n",
       "3   0.29  Premium     I     VS2   62.4   58.0    4.20   4.23    2.63     VS2\n",
       "4   0.31     Good     J     SI2   63.3   58.0    4.34   4.35    2.75     SI2"
      ]
     },
     "metadata": {},
     "output_type": "display_data"
    }
   ],
   "source": [
    "# Make dependent and predictor variables\n",
    "dependent_variable = diamonds[\"price\"]\n",
    "predictors = diamonds.drop(\"price\", axis = 1)\n",
    "display(dependent_variable.describe())\n",
    "#display(predictors.columns)\n",
    "display(predictors.head(5))"
   ]
  },
  {
   "cell_type": "markdown",
   "metadata": {},
   "source": [
    "Next, we need to split our data into a training and testing/validation dataset  as shown below. This will enable us to test our model on \"unseen\" data and evaluate how well it performs. \n",
    "\n",
    "To do the split, we can use `sklearn`'s `train_test_split` method that makes it quite easy to split the data."
   ]
  },
  {
   "cell_type": "code",
   "execution_count": 30,
   "metadata": {},
   "outputs": [
    {
     "name": "stdout",
     "output_type": "stream",
     "text": [
      "43152 10788 43152 10788\n"
     ]
    }
   ],
   "source": [
    "# split our data into test/train\n",
    "x_train, x_test, y_train, y_test = train_test_split(predictors, \n",
    "                                                    dependent_variable, test_size = 0.2, random_state = 101)\n",
    "print(len(x_train),len(x_test), len(y_train), len(y_test) )\n",
    "\n"
   ]
  },
  {
   "cell_type": "markdown",
   "metadata": {},
   "source": [
    "Having split our data, we next fit our model. The approach we have taken is to predict the price using all features in the dataset. Such a model may or may not best explain our data. We shall see how to take a more informed \"guess\" later. \n",
    "\n",
    "Before we can proceed with building our model, we need to solve one more isssue. Some of our columns are of type `object` which is not suitable for regression. We therefore need to encode this data. Again, we take advantage of `sklearn`'s prepocessing features to help us in doing so.\n",
    "\n",
    "## Label Encoding"
   ]
  },
  {
   "cell_type": "code",
   "execution_count": 31,
   "metadata": {},
   "outputs": [
    {
     "data": {
      "text/plain": [
       "carat       float64\n",
       "cut          object\n",
       "color        object\n",
       "clarity      object\n",
       "depth       float64\n",
       "table       float64\n",
       "length      float64\n",
       "width       float64\n",
       "height      float64\n",
       "clairty    category\n",
       "dtype: object"
      ]
     },
     "execution_count": 31,
     "metadata": {},
     "output_type": "execute_result"
    }
   ],
   "source": [
    "from sklearn.preprocessing import LabelEncoder\n",
    "x_train.dtypes"
   ]
  },
  {
   "cell_type": "code",
   "execution_count": 33,
   "metadata": {},
   "outputs": [
    {
     "data": {
      "text/html": [
       "<div>\n",
       "<style scoped>\n",
       "    .dataframe tbody tr th:only-of-type {\n",
       "        vertical-align: middle;\n",
       "    }\n",
       "\n",
       "    .dataframe tbody tr th {\n",
       "        vertical-align: top;\n",
       "    }\n",
       "\n",
       "    .dataframe thead th {\n",
       "        text-align: right;\n",
       "    }\n",
       "</style>\n",
       "<table border=\"1\" class=\"dataframe\">\n",
       "  <thead>\n",
       "    <tr style=\"text-align: right;\">\n",
       "      <th></th>\n",
       "      <th>carat</th>\n",
       "      <th>cut</th>\n",
       "      <th>color</th>\n",
       "      <th>clarity</th>\n",
       "      <th>depth</th>\n",
       "      <th>table</th>\n",
       "      <th>length</th>\n",
       "      <th>width</th>\n",
       "      <th>height</th>\n",
       "      <th>clairty</th>\n",
       "    </tr>\n",
       "  </thead>\n",
       "  <tbody>\n",
       "    <tr>\n",
       "      <th>11685</th>\n",
       "      <td>1.22</td>\n",
       "      <td>3</td>\n",
       "      <td>4</td>\n",
       "      <td>2</td>\n",
       "      <td>60.6</td>\n",
       "      <td>58.0</td>\n",
       "      <td>6.91</td>\n",
       "      <td>6.86</td>\n",
       "      <td>4.17</td>\n",
       "      <td>2</td>\n",
       "    </tr>\n",
       "    <tr>\n",
       "      <th>35218</th>\n",
       "      <td>0.41</td>\n",
       "      <td>1</td>\n",
       "      <td>4</td>\n",
       "      <td>6</td>\n",
       "      <td>62.6</td>\n",
       "      <td>62.0</td>\n",
       "      <td>4.70</td>\n",
       "      <td>4.76</td>\n",
       "      <td>2.96</td>\n",
       "      <td>6</td>\n",
       "    </tr>\n",
       "    <tr>\n",
       "      <th>52891</th>\n",
       "      <td>0.55</td>\n",
       "      <td>4</td>\n",
       "      <td>1</td>\n",
       "      <td>6</td>\n",
       "      <td>61.2</td>\n",
       "      <td>57.0</td>\n",
       "      <td>5.27</td>\n",
       "      <td>5.29</td>\n",
       "      <td>3.23</td>\n",
       "      <td>6</td>\n",
       "    </tr>\n",
       "    <tr>\n",
       "      <th>7817</th>\n",
       "      <td>1.00</td>\n",
       "      <td>4</td>\n",
       "      <td>0</td>\n",
       "      <td>3</td>\n",
       "      <td>63.5</td>\n",
       "      <td>59.0</td>\n",
       "      <td>6.35</td>\n",
       "      <td>6.32</td>\n",
       "      <td>4.02</td>\n",
       "      <td>3</td>\n",
       "    </tr>\n",
       "    <tr>\n",
       "      <th>23217</th>\n",
       "      <td>1.14</td>\n",
       "      <td>2</td>\n",
       "      <td>2</td>\n",
       "      <td>6</td>\n",
       "      <td>60.1</td>\n",
       "      <td>60.0</td>\n",
       "      <td>6.79</td>\n",
       "      <td>6.83</td>\n",
       "      <td>4.09</td>\n",
       "      <td>6</td>\n",
       "    </tr>\n",
       "  </tbody>\n",
       "</table>\n",
       "</div>"
      ],
      "text/plain": [
       "       carat  cut  color  clarity  depth  table  length  width  height  \\\n",
       "11685   1.22    3      4        2   60.6   58.0    6.91   6.86    4.17   \n",
       "35218   0.41    1      4        6   62.6   62.0    4.70   4.76    2.96   \n",
       "52891   0.55    4      1        6   61.2   57.0    5.27   5.29    3.23   \n",
       "7817    1.00    4      0        3   63.5   59.0    6.35   6.32    4.02   \n",
       "23217   1.14    2      2        6   60.1   60.0    6.79   6.83    4.09   \n",
       "\n",
       "       clairty  \n",
       "11685        2  \n",
       "35218        6  \n",
       "52891        6  \n",
       "7817         3  \n",
       "23217        6  "
      ]
     },
     "execution_count": 33,
     "metadata": {},
     "output_type": "execute_result"
    }
   ],
   "source": [
    "# apply the encoder on cut, color and clarity\n",
    "# Instantiate the Encoder\n",
    "encoder = LabelEncoder()\n",
    "# select_if(is.object, col)\n",
    "to_encode = x_train.select_dtypes(exclude = 'float').columns.values\n",
    "x_train[list(to_encode)] = x_train[to_encode].apply(encoder.fit_transform)\n",
    "x_test[list(to_encode)] = x_test[to_encode].apply(encoder.fit_transform)\n",
    "x_train.head()"
   ]
  },
  {
   "cell_type": "markdown",
   "metadata": {},
   "source": [
    "Alternatively, we can simply convert our columns to panda's Categorical data type."
   ]
  },
  {
   "cell_type": "code",
   "execution_count": 34,
   "metadata": {},
   "outputs": [
    {
     "data": {
      "text/html": [
       "<div>\n",
       "<style scoped>\n",
       "    .dataframe tbody tr th:only-of-type {\n",
       "        vertical-align: middle;\n",
       "    }\n",
       "\n",
       "    .dataframe tbody tr th {\n",
       "        vertical-align: top;\n",
       "    }\n",
       "\n",
       "    .dataframe thead th {\n",
       "        text-align: right;\n",
       "    }\n",
       "</style>\n",
       "<table border=\"1\" class=\"dataframe\">\n",
       "  <thead>\n",
       "    <tr style=\"text-align: right;\">\n",
       "      <th></th>\n",
       "      <th>cut</th>\n",
       "      <th>color</th>\n",
       "      <th>clarity</th>\n",
       "      <th>clairty</th>\n",
       "    </tr>\n",
       "  </thead>\n",
       "  <tbody>\n",
       "    <tr>\n",
       "      <th>0</th>\n",
       "      <td>2</td>\n",
       "      <td>1</td>\n",
       "      <td>3</td>\n",
       "      <td>6</td>\n",
       "    </tr>\n",
       "    <tr>\n",
       "      <th>1</th>\n",
       "      <td>3</td>\n",
       "      <td>1</td>\n",
       "      <td>2</td>\n",
       "      <td>5</td>\n",
       "    </tr>\n",
       "    <tr>\n",
       "      <th>2</th>\n",
       "      <td>1</td>\n",
       "      <td>1</td>\n",
       "      <td>4</td>\n",
       "      <td>3</td>\n",
       "    </tr>\n",
       "    <tr>\n",
       "      <th>3</th>\n",
       "      <td>3</td>\n",
       "      <td>5</td>\n",
       "      <td>5</td>\n",
       "      <td>4</td>\n",
       "    </tr>\n",
       "    <tr>\n",
       "      <th>4</th>\n",
       "      <td>1</td>\n",
       "      <td>6</td>\n",
       "      <td>3</td>\n",
       "      <td>6</td>\n",
       "    </tr>\n",
       "  </tbody>\n",
       "</table>\n",
       "</div>"
      ],
      "text/plain": [
       "   cut  color  clarity  clairty\n",
       "0    2      1        3        6\n",
       "1    3      1        2        5\n",
       "2    1      1        4        3\n",
       "3    3      5        5        4\n",
       "4    1      6        3        6"
      ]
     },
     "execution_count": 34,
     "metadata": {},
     "output_type": "execute_result"
    }
   ],
   "source": [
    "diamonds[to_encode].astype(\"category\").apply(lambda x: x.cat.codes).head()"
   ]
  },
  {
   "cell_type": "markdown",
   "metadata": {},
   "source": [
    "## The Model\n",
    "Having encoded our data, we can proceed with building our model. There are a number of libraries that have been written to achieve this but as alluded to earlier, we shall use `sklearn`. First we need to instantiate a regressor that we shall then use to fit our model. "
   ]
  },
  {
   "cell_type": "code",
   "execution_count": 35,
   "metadata": {},
   "outputs": [
    {
     "data": {
      "text/plain": [
       "LinearRegression(copy_X=True, fit_intercept=True, n_jobs=None, normalize=False)"
      ]
     },
     "execution_count": 35,
     "metadata": {},
     "output_type": "execute_result"
    }
   ],
   "source": [
    "# make a model object\n",
    "regressor = linear_model.LinearRegression()\n",
    "# Use the regressor to fit our model\n",
    "regressor.fit(x_train, y_train)\n",
    "\n",
    "\n"
   ]
  },
  {
   "cell_type": "markdown",
   "metadata": {},
   "source": [
    "We can now proceed to use our model for predictions."
   ]
  },
  {
   "cell_type": "code",
   "execution_count": 36,
   "metadata": {},
   "outputs": [],
   "source": [
    "# predict on x_test\n",
    "predicted_price = regressor.predict(x_test)"
   ]
  },
  {
   "cell_type": "markdown",
   "metadata": {},
   "source": [
    "## Model Evaluation\n",
    "\n",
    "To understand why we need to evaluate our models and why metrics are important, one ought to go back in time to a rather famous [quote](https://stats.stackexchange.com/questions/57407/what-is-the-meaning-of-all-models-are-wrong-but-some-are-useful/57414):\n",
    "\n",
    ">\n",
    "\n",
    "    \"Essentially, all models are wrong, but some are useful.\"\n",
    "\n",
    "    --- Box, George E. P.; Norman R. Draper (1987). Empirical Model-Building and Response Surfaces, p. 424, Wiley. ISBN 0471810339.\n",
    " \n",
    " \n",
    " Having said that, let us take a look at our model's R<sup>2</sup> on both the train and test datasets. This is known as the `score` in `sklearn`'s linear_model module. "
   ]
  },
  {
   "cell_type": "code",
   "execution_count": 37,
   "metadata": {},
   "outputs": [
    {
     "data": {
      "text/plain": [
       "'R Squared value(Train): '"
      ]
     },
     "metadata": {},
     "output_type": "display_data"
    },
    {
     "data": {
      "text/plain": [
       "88.49214370616447"
      ]
     },
     "metadata": {},
     "output_type": "display_data"
    },
    {
     "data": {
      "text/plain": [
       "'R Squared value(Test): '"
      ]
     },
     "metadata": {},
     "output_type": "display_data"
    },
    {
     "data": {
      "text/plain": [
       "88.50433017719598"
      ]
     },
     "metadata": {},
     "output_type": "display_data"
    }
   ],
   "source": [
    "display(\"R Squared value(Train): \", regressor.score(x_train, y_train) * 100)\n",
    "display(\"R Squared value(Test): \", regressor.score(x_test, y_test) * 100)"
   ]
  },
  {
   "cell_type": "markdown",
   "metadata": {},
   "source": [
    "# What's in the R squared?!\n",
    "However, [what does the R<sup>2</sup> tell us](http://people.duke.edu/%7Ernau/rsquared.htm)?! This value while not conclusive gives us an understanding of how much variance can be explained by our model. It is often assumed that the higher the R<sup>2</sup> value, the better the model. However, as you probably now know from the above link, this is often not the case.  A better metric is the adjusted R squared which we can calculate as shown here:"
   ]
  },
  {
   "cell_type": "code",
   "execution_count": 38,
   "metadata": {},
   "outputs": [
    {
     "name": "stdout",
     "output_type": "stream",
     "text": [
      "0.8850433017719596 0.8849366332202033\n"
     ]
    }
   ],
   "source": [
    "y_hat = predicted_price\n",
    "# sum squared residuals(sse)\n",
    "ssr = sum((y_test - y_hat)**2)\n",
    "# sum squared total\n",
    "sst = sum((y_test - np.mean(y_test)) **2 )\n",
    "r_squared = 1-(ssr/sst)\n",
    "# compute the adjusted r squared\n",
    "adj_r_squared =    1 - (1-regressor.score(x_test, y_test))*(len(y_test)-1)/(len(y_test)- x_test.shape[1]-1)\n",
    "print(r_squared, adj_r_squared)"
   ]
  },
  {
   "cell_type": "markdown",
   "metadata": {},
   "source": [
    "We can take the above a step further by using `sklearn`'s builtin metrics."
   ]
  },
  {
   "cell_type": "code",
   "execution_count": 256,
   "metadata": {},
   "outputs": [],
   "source": [
    "from sklearn import metrics"
   ]
  },
  {
   "cell_type": "code",
   "execution_count": 257,
   "metadata": {},
   "outputs": [
    {
     "data": {
      "text/plain": [
       "'MSE: '"
      ]
     },
     "metadata": {},
     "output_type": "display_data"
    },
    {
     "data": {
      "text/plain": [
       "1831111.0760136934"
      ]
     },
     "metadata": {},
     "output_type": "display_data"
    },
    {
     "data": {
      "text/plain": [
       "'MAE: '"
      ]
     },
     "metadata": {},
     "output_type": "display_data"
    },
    {
     "data": {
      "text/plain": [
       "863.7200511373374"
      ]
     },
     "metadata": {},
     "output_type": "display_data"
    }
   ],
   "source": [
    "display(\"MSE: \", metrics.mean_squared_error(predicted_price, y_test))\n",
    "display(\"MAE: \", metrics.mean_absolute_error(predicted_price, y_test))\n"
   ]
  },
  {
   "cell_type": "markdown",
   "metadata": {},
   "source": [
    "## Towards Reality\n",
    "\n",
    "From the above, one can easily see a major flaw in this approach. Surely, not all the dataset's features will have a major impact on the model. We can turn to looking at correlations between the variables to see which are more correlated and use these to build more realistic models."
   ]
  },
  {
   "cell_type": "code",
   "execution_count": 39,
   "metadata": {},
   "outputs": [
    {
     "data": {
      "text/html": [
       "<div>\n",
       "<style scoped>\n",
       "    .dataframe tbody tr th:only-of-type {\n",
       "        vertical-align: middle;\n",
       "    }\n",
       "\n",
       "    .dataframe tbody tr th {\n",
       "        vertical-align: top;\n",
       "    }\n",
       "\n",
       "    .dataframe thead th {\n",
       "        text-align: right;\n",
       "    }\n",
       "</style>\n",
       "<table border=\"1\" class=\"dataframe\">\n",
       "  <thead>\n",
       "    <tr style=\"text-align: right;\">\n",
       "      <th></th>\n",
       "      <th>carat</th>\n",
       "      <th>depth</th>\n",
       "      <th>table</th>\n",
       "      <th>price</th>\n",
       "      <th>length</th>\n",
       "      <th>width</th>\n",
       "      <th>height</th>\n",
       "    </tr>\n",
       "  </thead>\n",
       "  <tbody>\n",
       "    <tr>\n",
       "      <th>carat</th>\n",
       "      <td>1.000000</td>\n",
       "      <td>0.028224</td>\n",
       "      <td>0.181618</td>\n",
       "      <td>0.921591</td>\n",
       "      <td>0.975094</td>\n",
       "      <td>0.951722</td>\n",
       "      <td>0.953387</td>\n",
       "    </tr>\n",
       "    <tr>\n",
       "      <th>depth</th>\n",
       "      <td>0.028224</td>\n",
       "      <td>1.000000</td>\n",
       "      <td>-0.295779</td>\n",
       "      <td>-0.010647</td>\n",
       "      <td>-0.025289</td>\n",
       "      <td>-0.029341</td>\n",
       "      <td>0.094924</td>\n",
       "    </tr>\n",
       "    <tr>\n",
       "      <th>table</th>\n",
       "      <td>0.181618</td>\n",
       "      <td>-0.295779</td>\n",
       "      <td>1.000000</td>\n",
       "      <td>0.127134</td>\n",
       "      <td>0.195344</td>\n",
       "      <td>0.183760</td>\n",
       "      <td>0.150929</td>\n",
       "    </tr>\n",
       "    <tr>\n",
       "      <th>price</th>\n",
       "      <td>0.921591</td>\n",
       "      <td>-0.010647</td>\n",
       "      <td>0.127134</td>\n",
       "      <td>1.000000</td>\n",
       "      <td>0.884435</td>\n",
       "      <td>0.865421</td>\n",
       "      <td>0.861249</td>\n",
       "    </tr>\n",
       "    <tr>\n",
       "      <th>length</th>\n",
       "      <td>0.975094</td>\n",
       "      <td>-0.025289</td>\n",
       "      <td>0.195344</td>\n",
       "      <td>0.884435</td>\n",
       "      <td>1.000000</td>\n",
       "      <td>0.974701</td>\n",
       "      <td>0.970772</td>\n",
       "    </tr>\n",
       "    <tr>\n",
       "      <th>width</th>\n",
       "      <td>0.951722</td>\n",
       "      <td>-0.029341</td>\n",
       "      <td>0.183760</td>\n",
       "      <td>0.865421</td>\n",
       "      <td>0.974701</td>\n",
       "      <td>1.000000</td>\n",
       "      <td>0.952006</td>\n",
       "    </tr>\n",
       "    <tr>\n",
       "      <th>height</th>\n",
       "      <td>0.953387</td>\n",
       "      <td>0.094924</td>\n",
       "      <td>0.150929</td>\n",
       "      <td>0.861249</td>\n",
       "      <td>0.970772</td>\n",
       "      <td>0.952006</td>\n",
       "      <td>1.000000</td>\n",
       "    </tr>\n",
       "  </tbody>\n",
       "</table>\n",
       "</div>"
      ],
      "text/plain": [
       "           carat     depth     table     price    length     width    height\n",
       "carat   1.000000  0.028224  0.181618  0.921591  0.975094  0.951722  0.953387\n",
       "depth   0.028224  1.000000 -0.295779 -0.010647 -0.025289 -0.029341  0.094924\n",
       "table   0.181618 -0.295779  1.000000  0.127134  0.195344  0.183760  0.150929\n",
       "price   0.921591 -0.010647  0.127134  1.000000  0.884435  0.865421  0.861249\n",
       "length  0.975094 -0.025289  0.195344  0.884435  1.000000  0.974701  0.970772\n",
       "width   0.951722 -0.029341  0.183760  0.865421  0.974701  1.000000  0.952006\n",
       "height  0.953387  0.094924  0.150929  0.861249  0.970772  0.952006  1.000000"
      ]
     },
     "execution_count": 39,
     "metadata": {},
     "output_type": "execute_result"
    }
   ],
   "source": [
    "corrs = diamonds.corr()\n",
    "\n",
    "corrs\n"
   ]
  },
  {
   "cell_type": "markdown",
   "metadata": {},
   "source": [
    "We can plot the correlations based on one to one or one to many correlation.\n"
   ]
  },
  {
   "cell_type": "code",
   "execution_count": 40,
   "metadata": {},
   "outputs": [
    {
     "data": {
      "text/plain": [
       "<matplotlib.axes._subplots.AxesSubplot at 0x7f45860c75f8>"
      ]
     },
     "execution_count": 40,
     "metadata": {},
     "output_type": "execute_result"
    },
    {
     "data": {
      "image/png": "[encoded data removed]",
      "text/plain": [
       "<Figure size 432x288 with 2 Axes>"
      ]
     },
     "metadata": {
      "needs_background": "light"
     },
     "output_type": "display_data"
    }
   ],
   "source": [
    "sns.heatmap(data = corrs, square = True, cmap = [\"dodgerblue\", \"lightgreen\", \"gray\"], annot = True)"
   ]
  },
  {
   "cell_type": "markdown",
   "metadata": {},
   "source": [
    "## Feature Importance and Selection\n",
    "\n",
    "Having obtained these correlations, we can use them to decide which features are more highly correlated and therefore build our models based on these. We can utilise `sklearn`'s [`feature_selection`](https://scikit-learn.org/stable/modules/feature_selection.html) module to help us better get feature importance. This is \"nice\" since it will provide us with p values and their respective significance. From the documentation, `f_regression` attempts to:\n",
    "```\n",
    "Univariate linear regression tests.\n",
    "\n",
    "Linear model for testing the individual effect of each of many regressors.\n",
    "This is a scoring function to be used in a feature selection procedure, not\n",
    "a free standing feature selection procedure.\n",
    "\n",
    "\n",
    "1. The correlation between each regressor and the target is computed,\n",
    "   that is, ((X[:, i] - mean(X[:, i])) * (y - mean_y)) / (std(X[:, i]) *\n",
    "   std(y)).\n",
    "2. It is converted to an F score then to a p-value.\n",
    "\n",
    "```\n"
   ]
  },
  {
   "cell_type": "code",
   "execution_count": 45,
   "metadata": {},
   "outputs": [],
   "source": [
    "from sklearn.feature_selection import f_regression"
   ]
  },
  {
   "cell_type": "code",
   "execution_count": 189,
   "metadata": {},
   "outputs": [
    {
     "data": {
      "text/html": [
       "<div>\n",
       "<style scoped>\n",
       "    .dataframe tbody tr th:only-of-type {\n",
       "        vertical-align: middle;\n",
       "    }\n",
       "\n",
       "    .dataframe tbody tr th {\n",
       "        vertical-align: top;\n",
       "    }\n",
       "\n",
       "    .dataframe thead th {\n",
       "        text-align: right;\n",
       "    }\n",
       "</style>\n",
       "<table border=\"1\" class=\"dataframe\">\n",
       "  <thead>\n",
       "    <tr style=\"text-align: right;\">\n",
       "      <th></th>\n",
       "      <th>f_value</th>\n",
       "      <th>predictor</th>\n",
       "      <th>p_value</th>\n",
       "    </tr>\n",
       "  </thead>\n",
       "  <tbody>\n",
       "    <tr>\n",
       "      <th>4</th>\n",
       "      <td>2.57586</td>\n",
       "      <td>depth</td>\n",
       "      <td>0.108513</td>\n",
       "    </tr>\n",
       "    <tr>\n",
       "      <th>1</th>\n",
       "      <td>67.325</td>\n",
       "      <td>cut</td>\n",
       "      <td>2.36548e-16</td>\n",
       "    </tr>\n",
       "    <tr>\n",
       "      <th>3</th>\n",
       "      <td>212.346</td>\n",
       "      <td>clarity</td>\n",
       "      <td>5.49869e-48</td>\n",
       "    </tr>\n",
       "    <tr>\n",
       "      <th>9</th>\n",
       "      <td>212.346</td>\n",
       "      <td>clairty</td>\n",
       "      <td>5.49869e-48</td>\n",
       "    </tr>\n",
       "    <tr>\n",
       "      <th>5</th>\n",
       "      <td>707.136</td>\n",
       "      <td>table</td>\n",
       "      <td>1.48645e-154</td>\n",
       "    </tr>\n",
       "    <tr>\n",
       "      <th>2</th>\n",
       "      <td>1335.68</td>\n",
       "      <td>color</td>\n",
       "      <td>5.06073e-288</td>\n",
       "    </tr>\n",
       "    <tr>\n",
       "      <th>0</th>\n",
       "      <td>242300</td>\n",
       "      <td>carat</td>\n",
       "      <td>0</td>\n",
       "    </tr>\n",
       "    <tr>\n",
       "      <th>6</th>\n",
       "      <td>153608</td>\n",
       "      <td>length</td>\n",
       "      <td>0</td>\n",
       "    </tr>\n",
       "    <tr>\n",
       "      <th>7</th>\n",
       "      <td>147375</td>\n",
       "      <td>width</td>\n",
       "      <td>0</td>\n",
       "    </tr>\n",
       "    <tr>\n",
       "      <th>8</th>\n",
       "      <td>141810</td>\n",
       "      <td>height</td>\n",
       "      <td>0</td>\n",
       "    </tr>\n",
       "  </tbody>\n",
       "</table>\n",
       "</div>"
      ],
      "text/plain": [
       "   f_value predictor       p_value\n",
       "4  2.57586     depth      0.108513\n",
       "1   67.325       cut   2.36548e-16\n",
       "3  212.346   clarity   5.49869e-48\n",
       "9  212.346   clairty   5.49869e-48\n",
       "5  707.136     table  1.48645e-154\n",
       "2  1335.68     color  5.06073e-288\n",
       "0   242300     carat             0\n",
       "6   153608    length             0\n",
       "7   147375     width             0\n",
       "8   141810    height             0"
      ]
     },
     "execution_count": 189,
     "metadata": {},
     "output_type": "execute_result"
    }
   ],
   "source": [
    "f_value, p_value = f_regression(x_train, y_train)\n",
    "data = pd.DataFrame([f_value, x_train.columns.values, p_value]).T\n",
    "data.columns = [\"f_value\", \"predictor\", \"p_value\"]\n",
    "sorted_data = data.sort_values(by = \"p_value\", ascending = False)\n",
    "sorted_data"
   ]
  },
  {
   "cell_type": "markdown",
   "metadata": {},
   "source": [
    "Having sorted our f_values and p_values, we need to make a choice on what our cut off point is for a statistically significant p_value. Due to convention(Bayesians will likely disagree), I will set the cut off point to 0.05 and choose only those predictors with a p_value less than 0.05 as being statistically significant. We can make this fancy as follows."
   ]
  },
  {
   "cell_type": "code",
   "execution_count": 316,
   "metadata": {},
   "outputs": [
    {
     "data": {
      "text/html": [
       "<div>\n",
       "<style scoped>\n",
       "    .dataframe tbody tr th:only-of-type {\n",
       "        vertical-align: middle;\n",
       "    }\n",
       "\n",
       "    .dataframe tbody tr th {\n",
       "        vertical-align: top;\n",
       "    }\n",
       "\n",
       "    .dataframe thead th {\n",
       "        text-align: right;\n",
       "    }\n",
       "</style>\n",
       "<table border=\"1\" class=\"dataframe\">\n",
       "  <thead>\n",
       "    <tr style=\"text-align: right;\">\n",
       "      <th></th>\n",
       "      <th>f_value</th>\n",
       "      <th>predictor</th>\n",
       "      <th>p_value</th>\n",
       "      <th>signif</th>\n",
       "    </tr>\n",
       "  </thead>\n",
       "  <tbody>\n",
       "    <tr>\n",
       "      <th>1</th>\n",
       "      <td>67.325</td>\n",
       "      <td>cut</td>\n",
       "      <td>2.36548e-16</td>\n",
       "      <td>sf</td>\n",
       "    </tr>\n",
       "    <tr>\n",
       "      <th>3</th>\n",
       "      <td>212.346</td>\n",
       "      <td>clarity</td>\n",
       "      <td>5.49869e-48</td>\n",
       "      <td>sf</td>\n",
       "    </tr>\n",
       "    <tr>\n",
       "      <th>5</th>\n",
       "      <td>707.136</td>\n",
       "      <td>table</td>\n",
       "      <td>1.48645e-154</td>\n",
       "      <td>sf</td>\n",
       "    </tr>\n",
       "    <tr>\n",
       "      <th>2</th>\n",
       "      <td>1335.68</td>\n",
       "      <td>color</td>\n",
       "      <td>5.06073e-288</td>\n",
       "      <td>sf</td>\n",
       "    </tr>\n",
       "    <tr>\n",
       "      <th>0</th>\n",
       "      <td>242300</td>\n",
       "      <td>carat</td>\n",
       "      <td>0</td>\n",
       "      <td>sf</td>\n",
       "    </tr>\n",
       "    <tr>\n",
       "      <th>6</th>\n",
       "      <td>153608</td>\n",
       "      <td>length</td>\n",
       "      <td>0</td>\n",
       "      <td>sf</td>\n",
       "    </tr>\n",
       "    <tr>\n",
       "      <th>7</th>\n",
       "      <td>147375</td>\n",
       "      <td>width</td>\n",
       "      <td>0</td>\n",
       "      <td>sf</td>\n",
       "    </tr>\n",
       "    <tr>\n",
       "      <th>8</th>\n",
       "      <td>141810</td>\n",
       "      <td>height</td>\n",
       "      <td>0</td>\n",
       "      <td>sf</td>\n",
       "    </tr>\n",
       "  </tbody>\n",
       "</table>\n",
       "</div>"
      ],
      "text/plain": [
       "   f_value predictor       p_value signif\n",
       "1   67.325       cut   2.36548e-16     sf\n",
       "3  212.346   clarity   5.49869e-48     sf\n",
       "5  707.136     table  1.48645e-154     sf\n",
       "2  1335.68     color  5.06073e-288     sf\n",
       "0   242300     carat             0     sf\n",
       "6   153608    length             0     sf\n",
       "7   147375     width             0     sf\n",
       "8   141810    height             0     sf"
      ]
     },
     "execution_count": 316,
     "metadata": {},
     "output_type": "execute_result"
    }
   ],
   "source": [
    "sorted_data[\"signif\" ] = np.where(sorted_data[\"p_value\"] > 0.05 , \"ns\", \"sf\")\n",
    "sorted_data[np.where(sorted_data[\"signif\"] == \"sf\", True, False)].drop(9)\n",
    "\n"
   ]
  },
  {
   "cell_type": "markdown",
   "metadata": {},
   "source": [
    "From the above, it appears that the most likely(highly correlated) variables with price are cut,clarity, table and color. We shall therefore fit a new model with only these predictors and see how well it works, but first how does this result relate to the correlations we obtained above? "
   ]
  },
  {
   "cell_type": "code",
   "execution_count": 315,
   "metadata": {},
   "outputs": [
    {
     "data": {
      "text/plain": [
       "depth    -0.010647\n",
       "table     0.127134\n",
       "carat     0.921591\n",
       "length    0.884435\n",
       "width     0.865421\n",
       "height    0.861249\n",
       "Name: price, dtype: float64"
      ]
     },
     "execution_count": 315,
     "metadata": {},
     "output_type": "execute_result"
    }
   ],
   "source": [
    "to_index = list(sorted_data[\"predictor\"].values)\n",
    "# cannot use drop_dupes for some reason\n",
    "del to_index[2]\n",
    "# display correlations with price\n",
    "corrs[[x for x in to_index if x in corrs.columns]].loc[\"price\"]"
   ]
  },
  {
   "cell_type": "markdown",
   "metadata": {},
   "source": [
    "Looking at the above table, we can  see that carat, length, width and height happen to have a high correlation with  price. Therefore, we can build our models around these features and see how well it performs. Let us visualize these and see. "
   ]
  },
  {
   "cell_type": "code",
   "execution_count": 317,
   "metadata": {},
   "outputs": [
    {
     "data": {
      "text/plain": [
       "<seaborn.axisgrid.FacetGrid at 0x7f4580b52518>"
      ]
     },
     "execution_count": 317,
     "metadata": {},
     "output_type": "execute_result"
    },
    {
     "data": {
      "image/png": "[encoded data removed]",
      "text/plain": [
       "<Figure size 422.375x360 with 1 Axes>"
      ]
     },
     "metadata": {
      "needs_background": "light"
     },
     "output_type": "display_data"
    }
   ],
   "source": [
    "# Points clustered together. Might be best to reduce this clustering\n",
    "# Decided to filter for only highly priced diamonds\n",
    "# perhaps add some noise(jitter?)\n",
    "\n",
    "sns.lmplot(x = \"carat\", y = \"price\", data = diamonds.query(\"price >= 10000\"), hue = \"clarity\")"
   ]
  },
  {
   "cell_type": "markdown",
   "metadata": {},
   "source": [
    "From the above plot, we see a generally highly linear relationship between price and clarity/carat. It is therefore possible that a model with these two features alone would likely provide strong predictive power for a dimaond's price. \n",
    "\n",
    "**It is worth mentioning however that linear regression does not mean a linear relationship between the target and the variables but rather the target and the coefficients of the variables ie in the equation y = mx + c, y is linearly correlated to m and not necessarily x.**\n",
    "\n",
    "\n",
    "## Future Steps\n",
    "\n",
    "It would be close to impossible if not impossible to fully analyse and cover all important parts of linear regression. I therefore conclude this kernel(notebook) by thanking you for your time. As a bonus, here are a few interesting future steps that lack of space unfortunately prevents us from exploring.\n",
    "\n",
    "1. Build Models based on the most highly correlated variables\n",
    "\n",
    "2. Compare the above models with a model that uses all variables in the dataset.\n",
    "\n",
    "3. Use a Bayesian approach to statistical modeling to see how well this would compare to what we have.\n",
    "\n",
    "4. Improve the visualizations.\n",
    "\n",
    "5. Experiment with more \"advanced models\"(knns, svms, random forests, xgboost, adaboost, etc)\n",
    "\n",
    "6. Deploy  a real world model and see how this works on an actual real world problem.\n",
    "\n",
    "\n",
    "**Thank you for reading and do provide feeback on what works and what doesn't.** You can contact me via my Github [repo](https://github.com/Nelson-Gon/sweetpy) or by email(via [Kaggle](https://www.kaggle.com/gonnel)'s) contact me .\n"
   ]
  }
 ],
 "metadata": {
  "kernelspec": {
   "display_name": "Python 3",
   "language": "python",
   "name": "python3"
  },
  "language_info": {
   "codemirror_mode": {
    "name": "ipython",
    "version": 3
   },
   "file_extension": ".py",
   "mimetype": "text/x-python",
   "name": "python",
   "nbconvert_exporter": "python",
   "pygments_lexer": "ipython3",
   "version": "3.6.8"
  }
 },
 "nbformat": 4,
 "nbformat_minor": 2
}
